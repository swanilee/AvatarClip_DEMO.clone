{
  "nbformat": 4,
  "nbformat_minor": 0,
  "metadata": {
    "colab": {
      "provenance": [],
      "include_colab_link": true
    },
    "kernelspec": {
      "name": "python3",
      "display_name": "Python 3"
    },
    "language_info": {
      "name": "python"
    },
    "accelerator": "GPU"
  },
  "cells": [
    {
      "cell_type": "markdown",
      "metadata": {
        "id": "view-in-github",
        "colab_type": "text"
      },
      "source": [
        "<a href=\"https://colab.research.google.com/github/swanilee/-8-8/blob/master/AvatarCLIP.ipynb\" target=\"_parent\"><img src=\"https://colab.research.google.com/assets/colab-badge.svg\" alt=\"Open In Colab\"/></a>"
      ]
    },
    {
      "cell_type": "markdown",
      "source": [
        "# AvatarCLIP: Zero-Shot Text-Driven Generation and Animation of 3D Avatars\n",
        "\n",
        "Authored by Fangzhou Hong, Mingyuan Zhang, Liang Pan, Zhongang Cai, Lei Yang, Ziwei Liu\n",
        "\n",
        "This colab notebook provides a quick example of avatar shape sculpting and texture generation part described in our paper.\n",
        "\n",
        "For the coarse shape generation and motion generation, please refer to our official Github repo (https://github.com/hongfz16/AvatarCLIP).\n",
        "\n",
        "Please note that due to the GPU memory limitation, this demo cannot fully achieve the quality shown in the paper. To fit in the smaller GPU memory, we scale down the model, which harms its capacity. We also tune down the rendering resolution to reduce memory usage which will hurt the supervision from CLIP.\n",
        "\n",
        "For more information, feel free to visit our project page (https://hongfz16.github.io/projects/AvatarCLIP.html).\n",
        "\n",
        "The whole optimization process might take 4-10 hours depending on the machine you get allocated. Empirically, you can check the results after 10,000 iterations."
      ],
      "metadata": {
        "id": "WpMyzgQXY5kO"
      }
    },
    {
      "cell_type": "code",
      "execution_count": 1,
      "metadata": {
        "cellView": "form",
        "id": "PUkowKUqYy3s"
      },
      "outputs": [],
      "source": [
        "# @title Licensed under the MIT License\n",
        "\n",
        "# Copyright (c) 2021 Katherine Crowson\n",
        "\n",
        "# Permission is hereby granted, free of charge, to any person obtaining a copy\n",
        "# of this software and associated documentation files (the \"Software\"), to deal\n",
        "# in the Software without restriction, including without limitation the rights\n",
        "# to use, copy, modify, merge, publish, distribute, sublicense, and/or sell\n",
        "# copies of the Software, and to permit persons to whom the Software is\n",
        "# furnished to do so, subject to the following conditions:\n",
        "\n",
        "# The above copyright notice and this permission notice shall be included in\n",
        "# all copies or substantial portions of the Software.\n",
        "\n",
        "# THE SOFTWARE IS PROVIDED \"AS IS\", WITHOUT WARRANTY OF ANY KIND, EXPRESS OR\n",
        "# IMPLIED, INCLUDING BUT NOT LIMITED TO THE WARRANTIES OF MERCHANTABILITY,\n",
        "# FITNESS FOR A PARTICULAR PURPOSE AND NONINFRINGEMENT. IN NO EVENT SHALL THE\n",
        "# AUTHORS OR COPYRIGHT HOLDERS BE LIABLE FOR ANY CLAIM, DAMAGES OR OTHER\n",
        "# LIABILITY, WHETHER IN AN ACTION OF CONTRACT, TORT OR OTHERWISE, ARISING FROM,\n",
        "# OUT OF OR IN CONNECTION WITH THE SOFTWARE OR THE USE OR OTHER DEALINGS IN\n",
        "# THE SOFTWARE."
      ]
    },
    {
      "cell_type": "markdown",
      "source": [
        "## Setup SMPL Models\n",
        "\n",
        "Please register and download SMPL models here(https://smpl.is.tue.mpg.de/). Create folders under AvatarCLIP and put SMPL_NEUTRAL.pkl under the folder as follows.\n",
        "\n",
        "```\n",
        "./AvatarCLIP/\n",
        "├── ...\n",
        "└── smpl_models/\n",
        "    └── smpl/\n",
        "        └── SMPL_NEUTRAL.pkl\n",
        "```"
      ],
      "metadata": {
        "id": "gnP7fh6B_bd_"
      }
    },
    {
      "cell_type": "code",
      "source": [
        "# @title Setup the Environment: 1. Common Dependencies\n",
        "!nvidia-smi\n",
        "!git clone https://github.com/hongfz16/AvatarCLIP.git\n",
        "!pip install torch==1.7.1+cu101 torchvision==0.8.2+cu101 torchaudio==0.7.2 -f https://download.pytorch.org/whl/torch_stable.html\n",
        "!pip install -r AvatarCLIP/requirements.txt\n",
        "!git clone https://github.com/hongfz16/neural_renderer.git"
      ],
      "metadata": {
        "cellView": "form",
        "id": "dMsnmf-ObQPV",
        "colab": {
          "base_uri": "https://localhost:8080/"
        },
        "outputId": "3dda7af6-a17a-4fb9-bb83-042c7b5b9085"
      },
      "execution_count": 2,
      "outputs": [
        {
          "output_type": "stream",
          "name": "stdout",
          "text": [
            "Tue Aug  8 08:23:34 2023       \n",
            "+-----------------------------------------------------------------------------+\n",
            "| NVIDIA-SMI 525.105.17   Driver Version: 525.105.17   CUDA Version: 12.0     |\n",
            "|-------------------------------+----------------------+----------------------+\n",
            "| GPU  Name        Persistence-M| Bus-Id        Disp.A | Volatile Uncorr. ECC |\n",
            "| Fan  Temp  Perf  Pwr:Usage/Cap|         Memory-Usage | GPU-Util  Compute M. |\n",
            "|                               |                      |               MIG M. |\n",
            "|===============================+======================+======================|\n",
            "|   0  Tesla T4            Off  | 00000000:00:04.0 Off |                    0 |\n",
            "| N/A   60C    P8    13W /  70W |      0MiB / 15360MiB |      0%      Default |\n",
            "|                               |                      |                  N/A |\n",
            "+-------------------------------+----------------------+----------------------+\n",
            "                                                                               \n",
            "+-----------------------------------------------------------------------------+\n",
            "| Processes:                                                                  |\n",
            "|  GPU   GI   CI        PID   Type   Process name                  GPU Memory |\n",
            "|        ID   ID                                                   Usage      |\n",
            "|=============================================================================|\n",
            "|  No running processes found                                                 |\n",
            "+-----------------------------------------------------------------------------+\n",
            "fatal: destination path 'AvatarCLIP' already exists and is not an empty directory.\n",
            "Looking in links: https://download.pytorch.org/whl/torch_stable.html\n",
            "\u001b[31mERROR: Could not find a version that satisfies the requirement torch==1.7.1+cu101 (from versions: 1.11.0, 1.11.0+cpu, 1.11.0+cu102, 1.11.0+cu113, 1.11.0+cu115, 1.11.0+rocm4.3.1, 1.11.0+rocm4.5.2, 1.12.0, 1.12.0+cpu, 1.12.0+cu102, 1.12.0+cu113, 1.12.0+cu116, 1.12.0+rocm5.0, 1.12.0+rocm5.1.1, 1.12.1, 1.12.1+cpu, 1.12.1+cu102, 1.12.1+cu113, 1.12.1+cu116, 1.12.1+rocm5.0, 1.12.1+rocm5.1.1, 1.13.0, 1.13.0+cpu, 1.13.0+cu116, 1.13.0+cu117, 1.13.0+cu117.with.pypi.cudnn, 1.13.0+rocm5.1.1, 1.13.0+rocm5.2, 1.13.1, 1.13.1+cpu, 1.13.1+cu116, 1.13.1+cu117, 1.13.1+cu117.with.pypi.cudnn, 1.13.1+rocm5.1.1, 1.13.1+rocm5.2, 2.0.0, 2.0.0+cpu, 2.0.0+cpu.cxx11.abi, 2.0.0+cu117, 2.0.0+cu117.with.pypi.cudnn, 2.0.0+cu118, 2.0.0+rocm5.3, 2.0.0+rocm5.4.2, 2.0.1, 2.0.1+cpu, 2.0.1+cpu.cxx11.abi, 2.0.1+cu117, 2.0.1+cu117.with.pypi.cudnn, 2.0.1+cu118, 2.0.1+rocm5.3, 2.0.1+rocm5.4.2)\u001b[0m\u001b[31m\n",
            "\u001b[0m\u001b[31mERROR: No matching distribution found for torch==1.7.1+cu101\u001b[0m\u001b[31m\n",
            "\u001b[0mCollecting git+https://github.com/openai/CLIP.git (from -r AvatarCLIP/requirements.txt (line 12))\n",
            "  Cloning https://github.com/openai/CLIP.git to /tmp/pip-req-build-a7awy2cf\n",
            "  Running command git clone --filter=blob:none --quiet https://github.com/openai/CLIP.git /tmp/pip-req-build-a7awy2cf\n",
            "  Resolved https://github.com/openai/CLIP.git to commit a1d071733d7111c9c014f024669f959182114e33\n",
            "  Preparing metadata (setup.py) ... \u001b[?25l\u001b[?25hdone\n",
            "Collecting git+https://github.com/mingyuan-zhang/neural_renderer.git (from -r AvatarCLIP/requirements.txt (line 17))\n",
            "  Cloning https://github.com/mingyuan-zhang/neural_renderer.git to /tmp/pip-req-build-xv6tun0z\n",
            "  Running command git clone --filter=blob:none --quiet https://github.com/mingyuan-zhang/neural_renderer.git /tmp/pip-req-build-xv6tun0z\n",
            "  Resolved https://github.com/mingyuan-zhang/neural_renderer.git to commit 0ae141706333d266abb3530ce6cfd22e47ffca0d\n",
            "  Preparing metadata (setup.py) ... \u001b[?25l\u001b[?25hdone\n",
            "Collecting git+https://github.com/nghorbani/human_body_prior.git (from -r AvatarCLIP/requirements.txt (line 18))\n",
            "  Cloning https://github.com/nghorbani/human_body_prior.git to /tmp/pip-req-build-9iiexmoy\n",
            "  Running command git clone --filter=blob:none --quiet https://github.com/nghorbani/human_body_prior.git /tmp/pip-req-build-9iiexmoy\n",
            "  Resolved https://github.com/nghorbani/human_body_prior.git to commit 4c246d8a83ce16d3cff9c79dcf04d81fa440a6bc\n",
            "  Preparing metadata (setup.py) ... \u001b[?25l\u001b[?25hdone\n",
            "Collecting git+https://github.com/nghorbani/body_visualizer.git (from -r AvatarCLIP/requirements.txt (line 19))\n",
            "  Cloning https://github.com/nghorbani/body_visualizer.git to /tmp/pip-req-build-1_oar9k7\n",
            "  Running command git clone --filter=blob:none --quiet https://github.com/nghorbani/body_visualizer.git /tmp/pip-req-build-1_oar9k7\n",
            "  Resolved https://github.com/nghorbani/body_visualizer.git to commit 5d0ac4615f32563f5dbd2f09c24aee75e3ae62ff\n",
            "  Preparing metadata (setup.py) ... \u001b[?25l\u001b[?25hdone\n",
            "Collecting trimesh==3.9.8 (from -r AvatarCLIP/requirements.txt (line 1))\n",
            "  Using cached trimesh-3.9.8-py3-none-any.whl (629 kB)\n",
            "Collecting numpy==1.21.0 (from -r AvatarCLIP/requirements.txt (line 2))\n",
            "  Using cached numpy-1.21.0.zip (10.3 MB)\n",
            "  Installing build dependencies ... \u001b[?25l\u001b[?25hdone\n",
            "  Getting requirements to build wheel ... \u001b[?25l\u001b[?25hdone\n",
            "  Preparing metadata (pyproject.toml) ... \u001b[?25l\u001b[?25hdone\n",
            "Collecting pyhocon==0.3.57 (from -r AvatarCLIP/requirements.txt (line 3))\n",
            "  Using cached pyhocon-0.3.57.tar.gz (110 kB)\n",
            "  Preparing metadata (setup.py) ... \u001b[?25l\u001b[?25hdone\n",
            "Collecting icecream==2.1.0 (from -r AvatarCLIP/requirements.txt (line 4))\n",
            "  Using cached icecream-2.1.0-py2.py3-none-any.whl (8.0 kB)\n",
            "\u001b[31mERROR: Could not find a version that satisfies the requirement opencv_python==4.5.2.52 (from versions: 3.4.0.14, 3.4.10.37, 3.4.11.39, 3.4.11.41, 3.4.11.43, 3.4.11.45, 3.4.13.47, 3.4.15.55, 3.4.16.57, 3.4.16.59, 3.4.17.61, 3.4.17.63, 3.4.18.65, 4.3.0.38, 4.4.0.40, 4.4.0.42, 4.4.0.44, 4.4.0.46, 4.5.1.48, 4.5.3.56, 4.5.4.58, 4.5.4.60, 4.5.5.62, 4.5.5.64, 4.6.0.66, 4.7.0.68, 4.7.0.72, 4.8.0.74)\u001b[0m\u001b[31m\n",
            "\u001b[0m\u001b[31mERROR: No matching distribution found for opencv_python==4.5.2.52\u001b[0m\u001b[31m\n",
            "\u001b[0mfatal: destination path 'neural_renderer' already exists and is not an empty directory.\n"
          ]
        }
      ]
    },
    {
      "cell_type": "code",
      "source": [
        "# @title Setup the Environment: 2. Modify neural_renderer\n",
        "with open('neural_renderer/neural_renderer/perspective.py', 'r') as f:\n",
        "  lines = f.readlines()\n",
        "lines.insert(19, '    x[z<=0] = 0\\n')\n",
        "lines.insert(20, '    y[z<=0] = 0\\n')\n",
        "lines.insert(21, '    z[z<=0] = 0\\n')\n",
        "with open('neural_renderer/neural_renderer/perspective.py', 'w') as f:\n",
        "  for l in lines:\n",
        "    f.write(l)"
      ],
      "metadata": {
        "id": "2lQATO--fCpY"
      },
      "execution_count": 3,
      "outputs": []
    },
    {
      "cell_type": "code",
      "source": [
        "# @title Setup the Environment: 3. Compile neural_renderer\n",
        "%cd /content\n",
        "%cd neural_renderer\n",
        "!python3 setup.py install\n",
        "%cd ../AvatarCLIP\n",
        "%cd AvatarGen/AppearanceGen"
      ],
      "metadata": {
        "id": "3Y49xKSfe_ya",
        "colab": {
          "base_uri": "https://localhost:8080/"
        },
        "outputId": "5e4f9e41-893f-4a67-dfa5-a6a5fcbed5cb"
      },
      "execution_count": 4,
      "outputs": [
        {
          "output_type": "stream",
          "name": "stdout",
          "text": [
            "/content\n",
            "/content/neural_renderer\n",
            "running install\n",
            "/usr/local/lib/python3.10/dist-packages/setuptools/_distutils/cmd.py:66: SetuptoolsDeprecationWarning: setup.py install is deprecated.\n",
            "!!\n",
            "\n",
            "        ********************************************************************************\n",
            "        Please avoid running ``setup.py`` directly.\n",
            "        Instead, use pypa/build, pypa/installer, pypa/build or\n",
            "        other standards-based tools.\n",
            "\n",
            "        See https://blog.ganssle.io/articles/2021/10/setup-py-deprecated.html for details.\n",
            "        ********************************************************************************\n",
            "\n",
            "!!\n",
            "  self.initialize_options()\n",
            "/usr/local/lib/python3.10/dist-packages/setuptools/_distutils/cmd.py:66: EasyInstallDeprecationWarning: easy_install command is deprecated.\n",
            "!!\n",
            "\n",
            "        ********************************************************************************\n",
            "        Please avoid running ``setup.py`` and ``easy_install``.\n",
            "        Instead, use pypa/build, pypa/installer, pypa/build or\n",
            "        other standards-based tools.\n",
            "\n",
            "        See https://github.com/pypa/setuptools/issues/917 for details.\n",
            "        ********************************************************************************\n",
            "\n",
            "!!\n",
            "  self.initialize_options()\n",
            "running bdist_egg\n",
            "running egg_info\n",
            "writing neural_renderer_pytorch.egg-info/PKG-INFO\n",
            "writing dependency_links to neural_renderer_pytorch.egg-info/dependency_links.txt\n",
            "writing top-level names to neural_renderer_pytorch.egg-info/top_level.txt\n",
            "/usr/local/lib/python3.10/dist-packages/torch/utils/cpp_extension.py:476: UserWarning: Attempted to use ninja as the BuildExtension backend but we could not find ninja.. Falling back to using the slow distutils backend.\n",
            "  warnings.warn(msg.format('we could not find ninja.'))\n",
            "reading manifest file 'neural_renderer_pytorch.egg-info/SOURCES.txt'\n",
            "adding license file 'LICENSE'\n",
            "writing manifest file 'neural_renderer_pytorch.egg-info/SOURCES.txt'\n",
            "installing library code to build/bdist.linux-x86_64/egg\n",
            "running install_lib\n",
            "running build_py\n",
            "copying neural_renderer/perspective.py -> build/lib.linux-x86_64-cpython-310/neural_renderer\n",
            "running build_ext\n",
            "/usr/local/lib/python3.10/dist-packages/torch/utils/cpp_extension.py:398: UserWarning: There are no x86_64-linux-gnu-g++ version bounds defined for CUDA version 11.8\n",
            "  warnings.warn(f'There are no {compiler_name} version bounds defined for CUDA version {cuda_str_version}')\n",
            "creating build/bdist.linux-x86_64/egg\n",
            "creating build/bdist.linux-x86_64/egg/neural_renderer\n",
            "copying build/lib.linux-x86_64-cpython-310/neural_renderer/get_points_from_angles.py -> build/bdist.linux-x86_64/egg/neural_renderer\n",
            "copying build/lib.linux-x86_64-cpython-310/neural_renderer/perspective.py -> build/bdist.linux-x86_64/egg/neural_renderer\n",
            "copying build/lib.linux-x86_64-cpython-310/neural_renderer/renderer.py -> build/bdist.linux-x86_64/egg/neural_renderer\n",
            "copying build/lib.linux-x86_64-cpython-310/neural_renderer/load_obj.py -> build/bdist.linux-x86_64/egg/neural_renderer\n",
            "copying build/lib.linux-x86_64-cpython-310/neural_renderer/look.py -> build/bdist.linux-x86_64/egg/neural_renderer\n",
            "copying build/lib.linux-x86_64-cpython-310/neural_renderer/rasterize.py -> build/bdist.linux-x86_64/egg/neural_renderer\n",
            "copying build/lib.linux-x86_64-cpython-310/neural_renderer/mesh.py -> build/bdist.linux-x86_64/egg/neural_renderer\n",
            "creating build/bdist.linux-x86_64/egg/neural_renderer/cuda\n",
            "copying build/lib.linux-x86_64-cpython-310/neural_renderer/cuda/create_texture_image.cpython-310-x86_64-linux-gnu.so -> build/bdist.linux-x86_64/egg/neural_renderer/cuda\n",
            "copying build/lib.linux-x86_64-cpython-310/neural_renderer/cuda/load_textures.cpython-310-x86_64-linux-gnu.so -> build/bdist.linux-x86_64/egg/neural_renderer/cuda\n",
            "copying build/lib.linux-x86_64-cpython-310/neural_renderer/cuda/rasterize.cpython-310-x86_64-linux-gnu.so -> build/bdist.linux-x86_64/egg/neural_renderer/cuda\n",
            "copying build/lib.linux-x86_64-cpython-310/neural_renderer/cuda/__init__.py -> build/bdist.linux-x86_64/egg/neural_renderer/cuda\n",
            "copying build/lib.linux-x86_64-cpython-310/neural_renderer/vertices_to_faces.py -> build/bdist.linux-x86_64/egg/neural_renderer\n",
            "copying build/lib.linux-x86_64-cpython-310/neural_renderer/save_obj.py -> build/bdist.linux-x86_64/egg/neural_renderer\n",
            "copying build/lib.linux-x86_64-cpython-310/neural_renderer/projection.py -> build/bdist.linux-x86_64/egg/neural_renderer\n",
            "copying build/lib.linux-x86_64-cpython-310/neural_renderer/lighting.py -> build/bdist.linux-x86_64/egg/neural_renderer\n",
            "copying build/lib.linux-x86_64-cpython-310/neural_renderer/look_at.py -> build/bdist.linux-x86_64/egg/neural_renderer\n",
            "copying build/lib.linux-x86_64-cpython-310/neural_renderer/__init__.py -> build/bdist.linux-x86_64/egg/neural_renderer\n",
            "byte-compiling build/bdist.linux-x86_64/egg/neural_renderer/get_points_from_angles.py to get_points_from_angles.cpython-310.pyc\n",
            "byte-compiling build/bdist.linux-x86_64/egg/neural_renderer/perspective.py to perspective.cpython-310.pyc\n",
            "byte-compiling build/bdist.linux-x86_64/egg/neural_renderer/renderer.py to renderer.cpython-310.pyc\n",
            "build/bdist.linux-x86_64/egg/neural_renderer/renderer.py:73: SyntaxWarning: \"is\" with a literal. Did you mean \"==\"?\n",
            "  elif mode is 'rgb':\n",
            "byte-compiling build/bdist.linux-x86_64/egg/neural_renderer/load_obj.py to load_obj.cpython-310.pyc\n",
            "byte-compiling build/bdist.linux-x86_64/egg/neural_renderer/look.py to look.cpython-310.pyc\n",
            "byte-compiling build/bdist.linux-x86_64/egg/neural_renderer/rasterize.py to rasterize.cpython-310.pyc\n",
            "byte-compiling build/bdist.linux-x86_64/egg/neural_renderer/mesh.py to mesh.cpython-310.pyc\n",
            "byte-compiling build/bdist.linux-x86_64/egg/neural_renderer/cuda/__init__.py to __init__.cpython-310.pyc\n",
            "byte-compiling build/bdist.linux-x86_64/egg/neural_renderer/vertices_to_faces.py to vertices_to_faces.cpython-310.pyc\n",
            "byte-compiling build/bdist.linux-x86_64/egg/neural_renderer/save_obj.py to save_obj.cpython-310.pyc\n",
            "byte-compiling build/bdist.linux-x86_64/egg/neural_renderer/projection.py to projection.cpython-310.pyc\n",
            "byte-compiling build/bdist.linux-x86_64/egg/neural_renderer/lighting.py to lighting.cpython-310.pyc\n",
            "byte-compiling build/bdist.linux-x86_64/egg/neural_renderer/look_at.py to look_at.cpython-310.pyc\n",
            "byte-compiling build/bdist.linux-x86_64/egg/neural_renderer/__init__.py to __init__.cpython-310.pyc\n",
            "creating stub loader for neural_renderer/cuda/load_textures.cpython-310-x86_64-linux-gnu.so\n",
            "creating stub loader for neural_renderer/cuda/rasterize.cpython-310-x86_64-linux-gnu.so\n",
            "creating stub loader for neural_renderer/cuda/create_texture_image.cpython-310-x86_64-linux-gnu.so\n",
            "byte-compiling build/bdist.linux-x86_64/egg/neural_renderer/cuda/load_textures.py to load_textures.cpython-310.pyc\n",
            "byte-compiling build/bdist.linux-x86_64/egg/neural_renderer/cuda/rasterize.py to rasterize.cpython-310.pyc\n",
            "byte-compiling build/bdist.linux-x86_64/egg/neural_renderer/cuda/create_texture_image.py to create_texture_image.cpython-310.pyc\n",
            "creating build/bdist.linux-x86_64/egg/EGG-INFO\n",
            "copying neural_renderer_pytorch.egg-info/PKG-INFO -> build/bdist.linux-x86_64/egg/EGG-INFO\n",
            "copying neural_renderer_pytorch.egg-info/SOURCES.txt -> build/bdist.linux-x86_64/egg/EGG-INFO\n",
            "copying neural_renderer_pytorch.egg-info/dependency_links.txt -> build/bdist.linux-x86_64/egg/EGG-INFO\n",
            "copying neural_renderer_pytorch.egg-info/top_level.txt -> build/bdist.linux-x86_64/egg/EGG-INFO\n",
            "writing build/bdist.linux-x86_64/egg/EGG-INFO/native_libs.txt\n",
            "zip_safe flag not set; analyzing archive contents...\n",
            "neural_renderer.cuda.__pycache__.create_texture_image.cpython-310: module references __file__\n",
            "neural_renderer.cuda.__pycache__.load_textures.cpython-310: module references __file__\n",
            "neural_renderer.cuda.__pycache__.rasterize.cpython-310: module references __file__\n",
            "creating 'dist/neural_renderer_pytorch-1.1.3-py3.10-linux-x86_64.egg' and adding 'build/bdist.linux-x86_64/egg' to it\n",
            "removing 'build/bdist.linux-x86_64/egg' (and everything under it)\n",
            "Processing neural_renderer_pytorch-1.1.3-py3.10-linux-x86_64.egg\n",
            "removing '/usr/local/lib/python3.10/dist-packages/neural_renderer_pytorch-1.1.3-py3.10-linux-x86_64.egg' (and everything under it)\n",
            "creating /usr/local/lib/python3.10/dist-packages/neural_renderer_pytorch-1.1.3-py3.10-linux-x86_64.egg\n",
            "Extracting neural_renderer_pytorch-1.1.3-py3.10-linux-x86_64.egg to /usr/local/lib/python3.10/dist-packages\n",
            "/usr/local/lib/python3.10/dist-packages/neural_renderer_pytorch-1.1.3-py3.10-linux-x86_64.egg/neural_renderer/renderer.py:73: SyntaxWarning: \"is\" with a literal. Did you mean \"==\"?\n",
            "  elif mode is 'rgb':\n",
            "neural-renderer-pytorch 1.1.3 is already the active version in easy-install.pth\n",
            "\n",
            "Installed /usr/local/lib/python3.10/dist-packages/neural_renderer_pytorch-1.1.3-py3.10-linux-x86_64.egg\n",
            "Processing dependencies for neural-renderer-pytorch==1.1.3\n",
            "Finished processing dependencies for neural-renderer-pytorch==1.1.3\n",
            "/content/AvatarCLIP\n",
            "/content/AvatarCLIP/AvatarGen/AppearanceGen\n"
          ]
        }
      ]
    },
    {
      "cell_type": "code",
      "source": [
        "#####################################################################\n",
        "# This code block is for myself to quickly setup SMPL models.       #\n",
        "# Due to the license restriction, I cannot provide the SMPL models. #\n",
        "# Please register and download at https://smpl.is.tue.mpg.de/       #\n",
        "#####################################################################\n",
        "\n",
        "%cd /content/AvatarCLIP/AvatarGen/AppearanceGen\n",
        "from google.colab import drive\n",
        "drive.mount('/content/gdrive')\n",
        "!mkdir -p ../../smpl_models/smpl\n",
        "!cp '/content/smpl_models/smpl/SMPL_NEUTRAL.pkl' ../../smpl_models/smpl/SMPL_NEUTRAL.pkl"
      ],
      "metadata": {
        "id": "kVrJ8514hVKJ",
        "colab": {
          "base_uri": "https://localhost:8080/"
        },
        "outputId": "c7fe648a-3962-4566-ecab-5d291be337c4"
      },
      "execution_count": 5,
      "outputs": [
        {
          "output_type": "stream",
          "name": "stdout",
          "text": [
            "/content/AvatarCLIP/AvatarGen/AppearanceGen\n",
            "Drive already mounted at /content/gdrive; to attempt to forcibly remount, call drive.mount(\"/content/gdrive\", force_remount=True).\n"
          ]
        }
      ]
    },
    {
      "cell_type": "markdown",
      "source": [
        "# Important: Restart Runtime Before Proceeding (Menu => Runtime => Restart and run all)\n",
        "\n",
        "This is for the self compiled module (neural_renderer) to be activated."
      ],
      "metadata": {
        "id": "v7aVCe_GYa8T"
      }
    },
    {
      "cell_type": "code",
      "source": [
        "!pip install trimesh\n",
        "!pip install icecream\n",
        "!pip install pyhocon"
      ],
      "metadata": {
        "colab": {
          "base_uri": "https://localhost:8080/"
        },
        "id": "ImR8M3sk6N9p",
        "outputId": "eb755310-3e25-4e9b-e1de-3c7f7fde2e42"
      },
      "execution_count": 6,
      "outputs": [
        {
          "output_type": "stream",
          "name": "stdout",
          "text": [
            "Requirement already satisfied: trimesh in /usr/local/lib/python3.10/dist-packages (3.23.1)\n",
            "Requirement already satisfied: numpy in /usr/local/lib/python3.10/dist-packages (from trimesh) (1.22.4)\n",
            "Requirement already satisfied: icecream in /usr/local/lib/python3.10/dist-packages (2.1.3)\n",
            "Requirement already satisfied: colorama>=0.3.9 in /usr/local/lib/python3.10/dist-packages (from icecream) (0.4.6)\n",
            "Requirement already satisfied: pygments>=2.2.0 in /usr/local/lib/python3.10/dist-packages (from icecream) (2.14.0)\n",
            "Requirement already satisfied: executing>=0.3.1 in /usr/local/lib/python3.10/dist-packages (from icecream) (1.2.0)\n",
            "Requirement already satisfied: asttokens>=2.0.1 in /usr/local/lib/python3.10/dist-packages (from icecream) (2.2.1)\n",
            "Requirement already satisfied: six in /usr/local/lib/python3.10/dist-packages (from asttokens>=2.0.1->icecream) (1.16.0)\n",
            "Requirement already satisfied: pyhocon in /usr/local/lib/python3.10/dist-packages (0.3.43)\n",
            "Requirement already satisfied: pyparsing>=2.0.3 in /usr/local/lib/python3.10/dist-packages (from pyhocon) (3.1.0)\n"
          ]
        }
      ]
    },
    {
      "cell_type": "code",
      "source": [
        "#@title Import Necessary Modules\n",
        "%cd /content/AvatarCLIP/AvatarGen/AppearanceGen\n",
        "! pip install PyMCubes\n",
        "! pip install smplx\n",
        "! pip install git+https://github.com/openai/CLIP.git #pip instasll clip\n",
        "! pip install pyhocon==0.3.43\n",
        "! pip install chumpy\n",
        "import os\n",
        "import time\n",
        "import logging\n",
        "import argparse\n",
        "import random\n",
        "import numpy as np\n",
        "import cv2 as cv\n",
        "import trimesh\n",
        "import torch\n",
        "import torch.nn.functional as F\n",
        "from torchvision import transforms\n",
        "from torch.utils.tensorboard import SummaryWriter\n",
        "from shutil import copyfile\n",
        "from icecream import ic\n",
        "from tqdm import tqdm\n",
        "from pyhocon import ConfigFactory\n",
        "from models.dataset import Dataset\n",
        "from models.dataset import SMPL_Dataset\n",
        "from models.fields import RenderingNetwork, SDFNetwork, SingleVarianceNetwork, NeRF\n",
        "from models.renderer import NeuSRenderer\n",
        "from models.utils import lookat, random_eye, random_at, render_one_batch, batch_rodrigues\n",
        "from models.utils import sphere_coord, random_eye_normal, rgb2hsv, differentiable_histogram\n",
        "from models.utils import my_lbs, readOBJ\n",
        "import clip\n",
        "from smplx import build_layer\n",
        "import imageio\n",
        "\n",
        "to8b = lambda x : (255*np.clip(x,0,1)).astype(np.uint8)\n",
        "from main import Runner"
      ],
      "metadata": {
        "id": "kby5QtDF1pK0",
        "colab": {
          "base_uri": "https://localhost:8080/"
        },
        "outputId": "fa139528-7669-442e-8e17-b948e68f8b9a"
      },
      "execution_count": 10,
      "outputs": [
        {
          "output_type": "stream",
          "name": "stdout",
          "text": [
            "/content/AvatarCLIP/AvatarGen/AppearanceGen\n",
            "Requirement already satisfied: PyMCubes in /usr/local/lib/python3.10/dist-packages (0.1.4)\n",
            "Requirement already satisfied: numpy in /usr/local/lib/python3.10/dist-packages (from PyMCubes) (1.22.4)\n",
            "Requirement already satisfied: scipy>=1.0.0 in /usr/local/lib/python3.10/dist-packages (from PyMCubes) (1.10.1)\n",
            "Requirement already satisfied: smplx in /usr/local/lib/python3.10/dist-packages (0.1.28)\n",
            "Requirement already satisfied: numpy>=1.16.2 in /usr/local/lib/python3.10/dist-packages (from smplx) (1.22.4)\n",
            "Requirement already satisfied: torch>=1.0.1.post2 in /usr/local/lib/python3.10/dist-packages (from smplx) (2.0.1+cu118)\n",
            "Requirement already satisfied: filelock in /usr/local/lib/python3.10/dist-packages (from torch>=1.0.1.post2->smplx) (3.12.2)\n",
            "Requirement already satisfied: typing-extensions in /usr/local/lib/python3.10/dist-packages (from torch>=1.0.1.post2->smplx) (4.7.1)\n",
            "Requirement already satisfied: sympy in /usr/local/lib/python3.10/dist-packages (from torch>=1.0.1.post2->smplx) (1.11.1)\n",
            "Requirement already satisfied: networkx in /usr/local/lib/python3.10/dist-packages (from torch>=1.0.1.post2->smplx) (3.1)\n",
            "Requirement already satisfied: jinja2 in /usr/local/lib/python3.10/dist-packages (from torch>=1.0.1.post2->smplx) (3.1.2)\n",
            "Requirement already satisfied: triton==2.0.0 in /usr/local/lib/python3.10/dist-packages (from torch>=1.0.1.post2->smplx) (2.0.0)\n",
            "Requirement already satisfied: cmake in /usr/local/lib/python3.10/dist-packages (from triton==2.0.0->torch>=1.0.1.post2->smplx) (3.25.2)\n",
            "Requirement already satisfied: lit in /usr/local/lib/python3.10/dist-packages (from triton==2.0.0->torch>=1.0.1.post2->smplx) (16.0.6)\n",
            "Requirement already satisfied: MarkupSafe>=2.0 in /usr/local/lib/python3.10/dist-packages (from jinja2->torch>=1.0.1.post2->smplx) (2.1.3)\n",
            "Requirement already satisfied: mpmath>=0.19 in /usr/local/lib/python3.10/dist-packages (from sympy->torch>=1.0.1.post2->smplx) (1.3.0)\n",
            "Collecting git+https://github.com/openai/CLIP.git\n",
            "  Cloning https://github.com/openai/CLIP.git to /tmp/pip-req-build-dlxl8_aw\n",
            "  Running command git clone --filter=blob:none --quiet https://github.com/openai/CLIP.git /tmp/pip-req-build-dlxl8_aw\n",
            "  Resolved https://github.com/openai/CLIP.git to commit a1d071733d7111c9c014f024669f959182114e33\n",
            "  Preparing metadata (setup.py) ... \u001b[?25l\u001b[?25hdone\n",
            "Requirement already satisfied: ftfy in /usr/local/lib/python3.10/dist-packages (from clip==1.0) (6.1.1)\n",
            "Requirement already satisfied: regex in /usr/local/lib/python3.10/dist-packages (from clip==1.0) (2022.10.31)\n",
            "Requirement already satisfied: tqdm in /usr/local/lib/python3.10/dist-packages (from clip==1.0) (4.65.0)\n",
            "Requirement already satisfied: torch in /usr/local/lib/python3.10/dist-packages (from clip==1.0) (2.0.1+cu118)\n",
            "Requirement already satisfied: torchvision in /usr/local/lib/python3.10/dist-packages (from clip==1.0) (0.15.2+cu118)\n",
            "Requirement already satisfied: wcwidth>=0.2.5 in /usr/local/lib/python3.10/dist-packages (from ftfy->clip==1.0) (0.2.6)\n",
            "Requirement already satisfied: filelock in /usr/local/lib/python3.10/dist-packages (from torch->clip==1.0) (3.12.2)\n",
            "Requirement already satisfied: typing-extensions in /usr/local/lib/python3.10/dist-packages (from torch->clip==1.0) (4.7.1)\n",
            "Requirement already satisfied: sympy in /usr/local/lib/python3.10/dist-packages (from torch->clip==1.0) (1.11.1)\n",
            "Requirement already satisfied: networkx in /usr/local/lib/python3.10/dist-packages (from torch->clip==1.0) (3.1)\n",
            "Requirement already satisfied: jinja2 in /usr/local/lib/python3.10/dist-packages (from torch->clip==1.0) (3.1.2)\n",
            "Requirement already satisfied: triton==2.0.0 in /usr/local/lib/python3.10/dist-packages (from torch->clip==1.0) (2.0.0)\n",
            "Requirement already satisfied: cmake in /usr/local/lib/python3.10/dist-packages (from triton==2.0.0->torch->clip==1.0) (3.25.2)\n",
            "Requirement already satisfied: lit in /usr/local/lib/python3.10/dist-packages (from triton==2.0.0->torch->clip==1.0) (16.0.6)\n",
            "Requirement already satisfied: numpy in /usr/local/lib/python3.10/dist-packages (from torchvision->clip==1.0) (1.22.4)\n",
            "Requirement already satisfied: requests in /usr/local/lib/python3.10/dist-packages (from torchvision->clip==1.0) (2.27.1)\n",
            "Requirement already satisfied: pillow!=8.3.*,>=5.3.0 in /usr/local/lib/python3.10/dist-packages (from torchvision->clip==1.0) (9.4.0)\n",
            "Requirement already satisfied: MarkupSafe>=2.0 in /usr/local/lib/python3.10/dist-packages (from jinja2->torch->clip==1.0) (2.1.3)\n",
            "Requirement already satisfied: urllib3<1.27,>=1.21.1 in /usr/local/lib/python3.10/dist-packages (from requests->torchvision->clip==1.0) (1.26.16)\n",
            "Requirement already satisfied: certifi>=2017.4.17 in /usr/local/lib/python3.10/dist-packages (from requests->torchvision->clip==1.0) (2023.7.22)\n",
            "Requirement already satisfied: charset-normalizer~=2.0.0 in /usr/local/lib/python3.10/dist-packages (from requests->torchvision->clip==1.0) (2.0.12)\n",
            "Requirement already satisfied: idna<4,>=2.5 in /usr/local/lib/python3.10/dist-packages (from requests->torchvision->clip==1.0) (3.4)\n",
            "Requirement already satisfied: mpmath>=0.19 in /usr/local/lib/python3.10/dist-packages (from sympy->torch->clip==1.0) (1.3.0)\n",
            "Requirement already satisfied: pyhocon==0.3.43 in /usr/local/lib/python3.10/dist-packages (0.3.43)\n",
            "Requirement already satisfied: pyparsing>=2.0.3 in /usr/local/lib/python3.10/dist-packages (from pyhocon==0.3.43) (3.1.0)\n",
            "Collecting chumpy\n",
            "  Downloading chumpy-0.70.tar.gz (50 kB)\n",
            "\u001b[2K     \u001b[90m━━━━━━━━━━━━━━━━━━━━━━━━━━━━━━━━━━━━━━━━\u001b[0m \u001b[32m50.6/50.6 kB\u001b[0m \u001b[31m1.3 MB/s\u001b[0m eta \u001b[36m0:00:00\u001b[0m\n",
            "\u001b[?25h  Preparing metadata (setup.py) ... \u001b[?25l\u001b[?25hdone\n",
            "Requirement already satisfied: scipy>=0.13.0 in /usr/local/lib/python3.10/dist-packages (from chumpy) (1.10.1)\n",
            "Requirement already satisfied: six>=1.11.0 in /usr/local/lib/python3.10/dist-packages (from chumpy) (1.16.0)\n",
            "Requirement already satisfied: numpy<1.27.0,>=1.19.5 in /usr/local/lib/python3.10/dist-packages (from scipy>=0.13.0->chumpy) (1.22.4)\n",
            "Building wheels for collected packages: chumpy\n",
            "  Building wheel for chumpy (setup.py) ... \u001b[?25l\u001b[?25hdone\n",
            "  Created wheel for chumpy: filename=chumpy-0.70-py3-none-any.whl size=58266 sha256=2d96c531be88809fc9c4ef1fd9def95d297ec222e9351458a1eadf18e7ac41f2\n",
            "  Stored in directory: /root/.cache/pip/wheels/e0/c1/ef/29ba7be03653a29ef6f2c3e1956d6c4d8877f2b243af411db1\n",
            "Successfully built chumpy\n",
            "Installing collected packages: chumpy\n",
            "Successfully installed chumpy-0.70\n"
          ]
        }
      ]
    },
    {
      "cell_type": "code",
      "source": [
        "#@title Input Appearance Description (e.g. Iron Man)\n",
        "AppearanceDescription = \"Iron Man\" #@param {type:\"string\"}\n",
        "\n",
        "torch.set_default_tensor_type('torch.cuda.FloatTensor')\n",
        "FORMAT = \"[%(filename)s:%(lineno)s - %(funcName)20s() ] %(message)s\"\n",
        "logging.basicConfig(level=logging.INFO, format=FORMAT)\n",
        "conf_path = 'confs/examples_small/example.conf'\n",
        "f = open(conf_path)\n",
        "conf_text = f.read()\n",
        "f.close()\n",
        "conf_text = conf_text.replace('{TOREPLACE}', AppearanceDescription)\n",
        "# print(conf_text)\n",
        "!pip install pyhocon==0.3.43\n",
        "from pyhocon import ConfigFactory\n",
        "conf = ConfigFactory.parse_string(conf_text)\n",
        "print(\"Prompt: {}\".format(conf.get_string('clip.prompt')))\n",
        "print(\"Face Prompt: {}\".format(conf.get_string('clip.face_prompt')))\n",
        "print(\"Back Prompt: {}\".format(conf.get_string('clip.back_prompt')))\n",
        "\n",
        "# clip_prompt = \"a 3D rendering of a Iron Man in unreal engine\"\n",
        "# clip_face_prompt = \"a 3D rendering of the face of Iron Man in unreal engine\"\n",
        "# clip_back_prompt = \"a 3D rendering of the back of Iron Man in unreal engine\"\n",
        "\n",
        "# print(\"Prompt: {}\".format(clip_prompt))\n",
        "# print(\"Face Prompt: {}\".format(clip_face_prompt))\n",
        "# print(\"Back Prompt: {}\".format(clip_back_prompt))\n"
      ],
      "metadata": {
        "colab": {
          "base_uri": "https://localhost:8080/"
        },
        "id": "jZECRMMz65bv",
        "outputId": "f35aa898-753b-4784-c3f7-79e525d0d76b"
      },
      "execution_count": 11,
      "outputs": [
        {
          "output_type": "stream",
          "name": "stdout",
          "text": [
            "Requirement already satisfied: pyhocon==0.3.43 in /usr/local/lib/python3.10/dist-packages (0.3.43)\n",
            "Requirement already satisfied: pyparsing>=2.0.3 in /usr/local/lib/python3.10/dist-packages (from pyhocon==0.3.43) (3.1.0)\n",
            "Prompt: a 3D rendering of a Iron Man in unreal engine\n",
            "Face Prompt: a 3D rendering of the face of Iron Man in unreal engine\n",
            "Back Prompt: a 3D rendering of the back of Iron Man in unreal engine\n"
          ]
        }
      ]
    },
    {
      "cell_type": "code",
      "source": [
        "#@title Start the Generation!\n",
        "# !pip3 install clip-by-openai\n",
        "runner = Runner(conf_path, 'train_clip', 'smpl', False, True, conf)\n",
        "runner.init_clip()\n",
        "runner.init_smpl()\n",
        "runner.train_clip()"
      ],
      "metadata": {
        "id": "n0UfhfgMAhrl",
        "colab": {
          "base_uri": "https://localhost:8080/"
        },
        "outputId": "11f3d886-a770-493d-88b6-85107b9e75cc"
      },
      "execution_count": null,
      "outputs": [
        {
          "output_type": "stream",
          "name": "stdout",
          "text": [
            "Load data: Begin\n",
            "Load data: End\n",
            "Use head height: 0.7\n",
            "Prompt: a 3D rendering of a Iron Man in unreal engine\n",
            "Face Prompt: a 3D rendering of the face of Iron Man in unreal engine\n",
            "Back Prompt: a 3D rendering of the back of Iron Man in unreal engine\n"
          ]
        },
        {
          "output_type": "stream",
          "name": "stderr",
          "text": [
            "\r  0%|          | 0/30000 [00:00<?, ?it/s]/usr/local/lib/python3.10/dist-packages/torch/functional.py:504: UserWarning: torch.meshgrid: in an upcoming release, it will be required to pass the indexing argument. (Triggered internally at ../aten/src/ATen/native/TensorShape.cpp:3483.)\n",
            "  return _VF.meshgrid(tensors, **kwargs)  # type: ignore[attr-defined]\n",
            "/usr/local/lib/python3.10/dist-packages/torchvision/transforms/functional.py:1603: UserWarning: The default value of the antialias parameter of all the resizing transforms (Resize(), RandomResizedCrop(), etc.) will change from None to True in v0.17, in order to be consistent across the PIL and Tensor backends. To suppress this warning, directly pass antialias=True (recommended, future default), antialias=None (current default, which means False for Tensors and True for PIL), or antialias=False (only works on Tensors - PIL will still use antialiasing). This also applies if you are using the inference transforms from the models weights: update the call to weights.transforms(antialias=True).\n",
            "  warnings.warn(\n",
            "  0%|          | 99/30000 [01:01<4:41:00,  1.77it/s]"
          ]
        },
        {
          "output_type": "stream",
          "name": "stdout",
          "text": [
            "./exp/smpl/example\n",
            "iter:100 loss = 1.5702341794967651 lr=9.900000000000001e-05\n",
            "Validate: iter: 100, camera: 58\n"
          ]
        },
        {
          "output_type": "stream",
          "name": "stderr",
          "text": [
            "  1%|          | 199/30000 [01:59<4:27:41,  1.86it/s]"
          ]
        },
        {
          "output_type": "stream",
          "name": "stdout",
          "text": [
            "./exp/smpl/example\n",
            "iter:200 loss = 1.5722421407699585 lr=0.000199\n",
            "Validate: iter: 200, camera: 58\n"
          ]
        },
        {
          "output_type": "stream",
          "name": "stderr",
          "text": [
            "  1%|          | 299/30000 [02:57<4:30:36,  1.83it/s]"
          ]
        },
        {
          "output_type": "stream",
          "name": "stdout",
          "text": [
            "./exp/smpl/example\n",
            "iter:300 loss = 1.556973934173584 lr=0.000299\n",
            "Validate: iter: 300, camera: 58\n"
          ]
        },
        {
          "output_type": "stream",
          "name": "stderr",
          "text": [
            "  1%|▏         | 399/30000 [03:54<4:33:11,  1.81it/s]"
          ]
        },
        {
          "output_type": "stream",
          "name": "stdout",
          "text": [
            "./exp/smpl/example\n",
            "iter:400 loss = 1.5710313320159912 lr=0.00039900000000000005\n",
            "Validate: iter: 400, camera: 58\n"
          ]
        },
        {
          "output_type": "stream",
          "name": "stderr",
          "text": [
            "  2%|▏         | 499/30000 [04:52<4:37:16,  1.77it/s]"
          ]
        },
        {
          "output_type": "stream",
          "name": "stdout",
          "text": [
            "./exp/smpl/example\n",
            "iter:500 loss = 1.4804906845092773 lr=0.000499\n",
            "Validate: iter: 500, camera: 58\n",
            "threshold: 0.0\n"
          ]
        },
        {
          "output_type": "stream",
          "name": "stderr",
          "text": [
            "  2%|▏         | 599/30000 [06:04<4:29:10,  1.82it/s]"
          ]
        },
        {
          "output_type": "stream",
          "name": "stdout",
          "text": [
            "./exp/smpl/example\n",
            "iter:600 loss = 1.570452332496643 lr=0.0004999868005541672\n",
            "Validate: iter: 600, camera: 58\n"
          ]
        },
        {
          "output_type": "stream",
          "name": "stderr",
          "text": [
            "  2%|▏         | 699/30000 [07:02<4:25:06,  1.84it/s]"
          ]
        },
        {
          "output_type": "stream",
          "name": "stdout",
          "text": [
            "./exp/smpl/example\n",
            "iter:700 loss = 1.493703842163086 lr=0.0004999466690610096\n",
            "Validate: iter: 700, camera: 58\n"
          ]
        },
        {
          "output_type": "stream",
          "name": "stderr",
          "text": [
            "  3%|▎         | 799/30000 [08:00<4:22:26,  1.85it/s]"
          ]
        },
        {
          "output_type": "stream",
          "name": "stdout",
          "text": [
            "./exp/smpl/example\n",
            "iter:800 loss = 1.6019704341888428 lr=0.0004998796087250853\n",
            "Validate: iter: 800, camera: 58\n"
          ]
        },
        {
          "output_type": "stream",
          "name": "stderr",
          "text": [
            "  3%|▎         | 899/30000 [08:58<4:21:38,  1.85it/s]"
          ]
        },
        {
          "output_type": "stream",
          "name": "stdout",
          "text": [
            "./exp/smpl/example\n",
            "iter:900 loss = 1.5723955631256104 lr=0.0004997856271517113\n",
            "Validate: iter: 900, camera: 58\n"
          ]
        },
        {
          "output_type": "stream",
          "name": "stderr",
          "text": [
            "  3%|▎         | 999/30000 [09:56<4:35:03,  1.76it/s]"
          ]
        },
        {
          "output_type": "stream",
          "name": "stdout",
          "text": [
            "./exp/smpl/example\n",
            "iter:1000 loss = 1.579753041267395 lr=0.0004996647349993445\n",
            "Validate: iter: 1000, camera: 58\n",
            "threshold: 0.0\n"
          ]
        },
        {
          "output_type": "stream",
          "name": "stderr",
          "text": [
            "  4%|▎         | 1099/30000 [11:06<4:30:19,  1.78it/s]"
          ]
        },
        {
          "output_type": "stream",
          "name": "stdout",
          "text": [
            "./exp/smpl/example\n",
            "iter:1100 loss = 1.5525643825531006 lr=0.0004995169459783718\n",
            "Validate: iter: 1100, camera: 58\n"
          ]
        },
        {
          "output_type": "stream",
          "name": "stderr",
          "text": [
            "  4%|▍         | 1199/30000 [12:05<4:23:09,  1.82it/s]"
          ]
        },
        {
          "output_type": "stream",
          "name": "stdout",
          "text": [
            "./exp/smpl/example\n",
            "iter:1200 loss = 1.609642505645752 lr=0.0004993422768495561\n",
            "Validate: iter: 1200, camera: 58\n"
          ]
        },
        {
          "output_type": "stream",
          "name": "stderr",
          "text": [
            "  4%|▍         | 1299/30000 [13:03<4:19:58,  1.84it/s]"
          ]
        },
        {
          "output_type": "stream",
          "name": "stdout",
          "text": [
            "./exp/smpl/example\n",
            "iter:1300 loss = 1.5794126987457275 lr=0.0004991407474221354\n",
            "Validate: iter: 1300, camera: 58\n"
          ]
        },
        {
          "output_type": "stream",
          "name": "stderr",
          "text": [
            "  5%|▍         | 1399/30000 [14:01<4:19:42,  1.84it/s]"
          ]
        },
        {
          "output_type": "stream",
          "name": "stdout",
          "text": [
            "./exp/smpl/example\n",
            "iter:1400 loss = 1.5524945259094238 lr=0.0004989123805515751\n",
            "Validate: iter: 1400, camera: 58\n"
          ]
        },
        {
          "output_type": "stream",
          "name": "stderr",
          "text": [
            "  5%|▍         | 1499/30000 [14:59<4:19:54,  1.83it/s]"
          ]
        },
        {
          "output_type": "stream",
          "name": "stdout",
          "text": [
            "./exp/smpl/example\n",
            "iter:1500 loss = 1.4149866104125977 lr=0.0004986572021369778\n",
            "Validate: iter: 1500, camera: 58\n",
            "threshold: 0.0\n"
          ]
        },
        {
          "output_type": "stream",
          "name": "stderr",
          "text": [
            "  5%|▌         | 1599/30000 [16:10<4:22:31,  1.80it/s]"
          ]
        },
        {
          "output_type": "stream",
          "name": "stdout",
          "text": [
            "./exp/smpl/example\n",
            "iter:1600 loss = 1.5260734558105469 lr=0.0004983752411181447\n",
            "Validate: iter: 1600, camera: 58\n"
          ]
        },
        {
          "output_type": "stream",
          "name": "stderr",
          "text": [
            "  6%|▌         | 1699/30000 [17:09<4:29:30,  1.75it/s]"
          ]
        },
        {
          "output_type": "stream",
          "name": "stdout",
          "text": [
            "./exp/smpl/example\n",
            "iter:1700 loss = 1.6119978427886963 lr=0.0004980665294722939\n",
            "Validate: iter: 1700, camera: 58\n"
          ]
        },
        {
          "output_type": "stream",
          "name": "stderr",
          "text": [
            "  6%|▌         | 1799/30000 [18:07<4:21:19,  1.80it/s]"
          ]
        },
        {
          "output_type": "stream",
          "name": "stdout",
          "text": [
            "./exp/smpl/example\n",
            "iter:1800 loss = 1.617595911026001 lr=0.000497731102210434\n",
            "Validate: iter: 1800, camera: 58\n"
          ]
        },
        {
          "output_type": "stream",
          "name": "stderr",
          "text": [
            "  6%|▋         | 1899/30000 [19:05<4:13:00,  1.85it/s]"
          ]
        },
        {
          "output_type": "stream",
          "name": "stdout",
          "text": [
            "./exp/smpl/example\n",
            "iter:1900 loss = 1.4036827087402344 lr=0.0004973689973733934\n",
            "Validate: iter: 1900, camera: 58\n"
          ]
        },
        {
          "output_type": "stream",
          "name": "stderr",
          "text": [
            "  7%|▋         | 1999/30000 [20:04<4:21:14,  1.79it/s]"
          ]
        },
        {
          "output_type": "stream",
          "name": "stdout",
          "text": [
            "./exp/smpl/example\n",
            "iter:2000 loss = 1.6398342847824097 lr=0.0004969802560275062\n",
            "Validate: iter: 2000, camera: 58\n",
            "threshold: 0.0\n"
          ]
        },
        {
          "output_type": "stream",
          "name": "stderr",
          "text": [
            "  7%|▋         | 2099/30000 [21:15<4:11:23,  1.85it/s]"
          ]
        },
        {
          "output_type": "stream",
          "name": "stdout",
          "text": [
            "./exp/smpl/example\n",
            "iter:2100 loss = 1.5586652755737305 lr=0.0004965649222599545\n",
            "Validate: iter: 2100, camera: 58\n"
          ]
        },
        {
          "output_type": "stream",
          "name": "stderr",
          "text": [
            "  7%|▋         | 2199/30000 [22:14<4:14:37,  1.82it/s]"
          ]
        },
        {
          "output_type": "stream",
          "name": "stdout",
          "text": [
            "./exp/smpl/example\n",
            "iter:2200 loss = 1.5354595184326172 lr=0.0004961230431737691\n",
            "Validate: iter: 2200, camera: 58\n"
          ]
        },
        {
          "output_type": "stream",
          "name": "stderr",
          "text": [
            "  8%|▊         | 2299/30000 [23:12<4:17:49,  1.79it/s]"
          ]
        },
        {
          "output_type": "stream",
          "name": "stdout",
          "text": [
            "./exp/smpl/example\n",
            "iter:2300 loss = 1.655094027519226 lr=0.0004956546688824869\n",
            "Validate: iter: 2300, camera: 58\n"
          ]
        },
        {
          "output_type": "stream",
          "name": "stderr",
          "text": [
            "  8%|▊         | 2399/30000 [24:10<4:22:42,  1.75it/s]"
          ]
        },
        {
          "output_type": "stream",
          "name": "stdout",
          "text": [
            "./exp/smpl/example\n",
            "iter:2400 loss = 1.4613325595855713 lr=0.0004951598525044679\n",
            "Validate: iter: 2400, camera: 58\n"
          ]
        },
        {
          "output_type": "stream",
          "name": "stderr",
          "text": [
            "  8%|▊         | 2499/30000 [25:08<4:19:54,  1.76it/s]"
          ]
        },
        {
          "output_type": "stream",
          "name": "stdout",
          "text": [
            "./exp/smpl/example\n",
            "iter:2500 loss = 1.3604660034179688 lr=0.000494638650156871\n",
            "Validate: iter: 2500, camera: 58\n",
            "threshold: 0.0\n"
          ]
        },
        {
          "output_type": "stream",
          "name": "stderr",
          "text": [
            "  9%|▊         | 2599/30000 [26:19<4:15:33,  1.79it/s]"
          ]
        },
        {
          "output_type": "stream",
          "name": "stdout",
          "text": [
            "./exp/smpl/example\n",
            "iter:2600 loss = 1.5348620414733887 lr=0.0004940911209492894\n",
            "Validate: iter: 2600, camera: 58\n"
          ]
        },
        {
          "output_type": "stream",
          "name": "stderr",
          "text": [
            "  9%|▉         | 2699/30000 [27:18<4:17:40,  1.77it/s]"
          ]
        },
        {
          "output_type": "stream",
          "name": "stdout",
          "text": [
            "./exp/smpl/example\n",
            "iter:2700 loss = 1.47952139377594 lr=0.0004935173269770478\n",
            "Validate: iter: 2700, camera: 58\n"
          ]
        },
        {
          "output_type": "stream",
          "name": "stderr",
          "text": [
            "  9%|▉         | 2799/30000 [28:16<4:04:31,  1.85it/s]"
          ]
        },
        {
          "output_type": "stream",
          "name": "stdout",
          "text": [
            "./exp/smpl/example\n",
            "iter:2800 loss = 1.5211350917816162 lr=0.0004929173333141592\n",
            "Validate: iter: 2800, camera: 58\n"
          ]
        },
        {
          "output_type": "stream",
          "name": "stderr",
          "text": [
            " 10%|▉         | 2899/30000 [29:13<4:04:58,  1.84it/s]"
          ]
        },
        {
          "output_type": "stream",
          "name": "stdout",
          "text": [
            "./exp/smpl/example\n",
            "iter:2900 loss = 1.432356834411621 lr=0.0004922912080059454\n",
            "Validate: iter: 2900, camera: 58\n"
          ]
        },
        {
          "output_type": "stream",
          "name": "stderr",
          "text": [
            " 10%|▉         | 2999/30000 [30:11<4:05:40,  1.83it/s]"
          ]
        },
        {
          "output_type": "stream",
          "name": "stdout",
          "text": [
            "./exp/smpl/example\n",
            "iter:3000 loss = 1.416863203048706 lr=0.0004916390220613198\n",
            "Validate: iter: 3000, camera: 58\n",
            "threshold: 0.0\n"
          ]
        },
        {
          "output_type": "stream",
          "name": "stderr",
          "text": [
            " 10%|█         | 3099/30000 [31:22<4:07:53,  1.81it/s]"
          ]
        },
        {
          "output_type": "stream",
          "name": "stdout",
          "text": [
            "./exp/smpl/example\n",
            "iter:3100 loss = 1.4825153350830078 lr=0.0004909608494447345\n",
            "Validate: iter: 3100, camera: 58\n"
          ]
        },
        {
          "output_type": "stream",
          "name": "stderr",
          "text": [
            " 11%|█         | 3199/30000 [32:20<4:02:09,  1.84it/s]"
          ]
        },
        {
          "output_type": "stream",
          "name": "stdout",
          "text": [
            "./exp/smpl/example\n",
            "iter:3200 loss = 1.4202942848205566 lr=0.0004902567670677917\n",
            "Validate: iter: 3200, camera: 58\n"
          ]
        },
        {
          "output_type": "stream",
          "name": "stderr",
          "text": [
            " 11%|█         | 3299/30000 [33:18<4:00:43,  1.85it/s]"
          ]
        },
        {
          "output_type": "stream",
          "name": "stdout",
          "text": [
            "./exp/smpl/example\n",
            "iter:3300 loss = 1.3932890892028809 lr=0.0004895268547805213\n",
            "Validate: iter: 3300, camera: 58\n"
          ]
        },
        {
          "output_type": "stream",
          "name": "stderr",
          "text": [
            " 11%|█▏        | 3399/30000 [34:16<4:00:04,  1.85it/s]"
          ]
        },
        {
          "output_type": "stream",
          "name": "stdout",
          "text": [
            "./exp/smpl/example\n",
            "iter:3400 loss = 1.4509544372558594 lr=0.0004887711953623251\n",
            "Validate: iter: 3400, camera: 58\n"
          ]
        },
        {
          "output_type": "stream",
          "name": "stderr",
          "text": [
            " 12%|█▏        | 3499/30000 [35:14<4:02:26,  1.82it/s]"
          ]
        },
        {
          "output_type": "stream",
          "name": "stdout",
          "text": [
            "./exp/smpl/example\n",
            "iter:3500 loss = 1.5631189346313477 lr=0.00048798987451258857\n",
            "Validate: iter: 3500, camera: 58\n",
            "threshold: 0.0\n"
          ]
        },
        {
          "output_type": "stream",
          "name": "stderr",
          "text": [
            " 12%|█▏        | 3599/30000 [36:26<4:00:50,  1.83it/s]"
          ]
        },
        {
          "output_type": "stream",
          "name": "stdout",
          "text": [
            "./exp/smpl/example\n",
            "iter:3600 loss = 1.5540727376937866 lr=0.0004871829808409622\n",
            "Validate: iter: 3600, camera: 58\n"
          ]
        },
        {
          "output_type": "stream",
          "name": "stderr",
          "text": [
            " 12%|█▏        | 3699/30000 [37:23<4:06:23,  1.78it/s]"
          ]
        },
        {
          "output_type": "stream",
          "name": "stdout",
          "text": [
            "./exp/smpl/example\n",
            "iter:3700 loss = 1.5967316627502441 lr=0.0004863506058573117\n",
            "Validate: iter: 3700, camera: 58\n"
          ]
        },
        {
          "output_type": "stream",
          "name": "stderr",
          "text": [
            " 13%|█▎        | 3799/30000 [38:21<4:22:57,  1.66it/s]"
          ]
        },
        {
          "output_type": "stream",
          "name": "stdout",
          "text": [
            "./exp/smpl/example\n",
            "iter:3800 loss = 1.5658366680145264 lr=0.0004854928439613402\n",
            "Validate: iter: 3800, camera: 58\n"
          ]
        },
        {
          "output_type": "stream",
          "name": "stderr",
          "text": [
            " 13%|█▎        | 3899/30000 [39:19<4:05:38,  1.77it/s]"
          ]
        },
        {
          "output_type": "stream",
          "name": "stdout",
          "text": [
            "./exp/smpl/example\n",
            "iter:3900 loss = 1.3862793445587158 lr=0.00048460979243188215\n",
            "Validate: iter: 3900, camera: 58\n"
          ]
        },
        {
          "output_type": "stream",
          "name": "stderr",
          "text": [
            " 13%|█▎        | 3999/30000 [40:17<3:58:08,  1.82it/s]"
          ]
        },
        {
          "output_type": "stream",
          "name": "stdout",
          "text": [
            "./exp/smpl/example\n",
            "iter:4000 loss = 1.45023775100708 lr=0.0004837015514158711\n",
            "Validate: iter: 4000, camera: 58\n",
            "threshold: 0.0\n"
          ]
        },
        {
          "output_type": "stream",
          "name": "stderr",
          "text": [
            " 14%|█▎        | 4099/30000 [41:29<3:53:29,  1.85it/s]"
          ]
        },
        {
          "output_type": "stream",
          "name": "stdout",
          "text": [
            "./exp/smpl/example\n",
            "iter:4100 loss = 1.407721757888794 lr=0.00048276822391698213\n",
            "Validate: iter: 4100, camera: 58\n"
          ]
        },
        {
          "output_type": "stream",
          "name": "stderr",
          "text": [
            " 14%|█▍        | 4199/30000 [42:27<3:50:54,  1.86it/s]"
          ]
        },
        {
          "output_type": "stream",
          "name": "stdout",
          "text": [
            "./exp/smpl/example\n",
            "iter:4200 loss = 1.588524580001831 lr=0.0004818099157839497\n",
            "Validate: iter: 4200, camera: 58\n"
          ]
        },
        {
          "output_type": "stream",
          "name": "stderr",
          "text": [
            " 14%|█▍        | 4299/30000 [43:25<3:52:37,  1.84it/s]"
          ]
        },
        {
          "output_type": "stream",
          "name": "stdout",
          "text": [
            "./exp/smpl/example\n",
            "iter:4300 loss = 1.5346230268478394 lr=0.0004808267356985639\n",
            "Validate: iter: 4300, camera: 58\n"
          ]
        },
        {
          "output_type": "stream",
          "name": "stderr",
          "text": [
            " 15%|█▍        | 4399/30000 [44:23<3:52:07,  1.84it/s]"
          ]
        },
        {
          "output_type": "stream",
          "name": "stdout",
          "text": [
            "./exp/smpl/example\n",
            "iter:4400 loss = 1.5175325870513916 lr=0.00047981879516334475\n",
            "Validate: iter: 4400, camera: 58\n"
          ]
        },
        {
          "output_type": "stream",
          "name": "stderr",
          "text": [
            " 15%|█▍        | 4499/30000 [45:21<3:54:56,  1.81it/s]"
          ]
        },
        {
          "output_type": "stream",
          "name": "stdout",
          "text": [
            "./exp/smpl/example\n",
            "iter:4500 loss = 1.4199670553207397 lr=0.0004787862084888964\n",
            "Validate: iter: 4500, camera: 58\n",
            "threshold: 0.0\n"
          ]
        },
        {
          "output_type": "stream",
          "name": "stderr",
          "text": [
            " 15%|█▌        | 4599/30000 [46:32<3:56:48,  1.79it/s]"
          ]
        },
        {
          "output_type": "stream",
          "name": "stdout",
          "text": [
            "./exp/smpl/example\n",
            "iter:4600 loss = 1.5667815208435059 lr=0.00047772909278094296\n",
            "Validate: iter: 4600, camera: 58\n"
          ]
        },
        {
          "output_type": "stream",
          "name": "stderr",
          "text": [
            " 16%|█▌        | 4699/30000 [47:30<3:56:15,  1.78it/s]"
          ]
        },
        {
          "output_type": "stream",
          "name": "stdout",
          "text": [
            "./exp/smpl/example\n",
            "iter:4700 loss = 1.4328409433364868 lr=0.0004766475679270485\n",
            "Validate: iter: 4700, camera: 58\n"
          ]
        },
        {
          "output_type": "stream",
          "name": "stderr",
          "text": [
            " 16%|█▌        | 4799/30000 [48:28<3:51:55,  1.81it/s]"
          ]
        },
        {
          "output_type": "stream",
          "name": "stdout",
          "text": [
            "./exp/smpl/example\n",
            "iter:4800 loss = 1.490097999572754 lr=0.00047554175658301966\n",
            "Validate: iter: 4800, camera: 58\n"
          ]
        },
        {
          "output_type": "stream",
          "name": "stderr",
          "text": [
            " 16%|█▋        | 4899/30000 [49:26<3:45:52,  1.85it/s]"
          ]
        },
        {
          "output_type": "stream",
          "name": "stdout",
          "text": [
            "./exp/smpl/example\n",
            "iter:4900 loss = 1.3971278667449951 lr=0.0004744117841589957\n",
            "Validate: iter: 4900, camera: 58\n"
          ]
        },
        {
          "output_type": "stream",
          "name": "stderr",
          "text": [
            " 17%|█▋        | 4999/30000 [50:24<3:44:11,  1.86it/s]"
          ]
        },
        {
          "output_type": "stream",
          "name": "stdout",
          "text": [
            "./exp/smpl/example\n",
            "iter:5000 loss = 1.451648473739624 lr=0.0004732577788052254\n",
            "Validate: iter: 5000, camera: 58\n",
            "threshold: 0.0\n"
          ]
        },
        {
          "output_type": "stream",
          "name": "stderr",
          "text": [
            " 17%|█▋        | 5099/30000 [51:35<3:44:31,  1.85it/s]"
          ]
        },
        {
          "output_type": "stream",
          "name": "stdout",
          "text": [
            "./exp/smpl/example\n",
            "iter:5100 loss = 1.4170105457305908 lr=0.00047207987139753375\n",
            "Validate: iter: 5100, camera: 58\n"
          ]
        },
        {
          "output_type": "stream",
          "name": "stderr",
          "text": [
            " 17%|█▋        | 5199/30000 [52:34<3:49:17,  1.80it/s]"
          ]
        },
        {
          "output_type": "stream",
          "name": "stdout",
          "text": [
            "./exp/smpl/example\n",
            "iter:5200 loss = 1.4809694290161133 lr=0.0004708781955224795\n",
            "Validate: iter: 5200, camera: 58\n"
          ]
        },
        {
          "output_type": "stream",
          "name": "stderr",
          "text": [
            " 18%|█▊        | 5299/30000 [53:31<3:49:06,  1.80it/s]"
          ]
        },
        {
          "output_type": "stream",
          "name": "stdout",
          "text": [
            "./exp/smpl/example\n",
            "iter:5300 loss = 1.4238051176071167 lr=0.0004696528874622047\n",
            "Validate: iter: 5300, camera: 58\n"
          ]
        },
        {
          "output_type": "stream",
          "name": "stderr",
          "text": [
            " 18%|█▊        | 5399/30000 [54:29<3:50:11,  1.78it/s]"
          ]
        },
        {
          "output_type": "stream",
          "name": "stdout",
          "text": [
            "./exp/smpl/example\n",
            "iter:5400 loss = 1.505539894104004 lr=0.00046840408617897933\n",
            "Validate: iter: 5400, camera: 58\n"
          ]
        },
        {
          "output_type": "stream",
          "name": "stderr",
          "text": [
            " 18%|█▊        | 5499/30000 [55:27<3:48:39,  1.79it/s]"
          ]
        },
        {
          "output_type": "stream",
          "name": "stdout",
          "text": [
            "./exp/smpl/example\n",
            "iter:5500 loss = 1.5925989151000977 lr=0.00046713193329944096\n",
            "Validate: iter: 5500, camera: 58\n",
            "threshold: 0.0\n"
          ]
        },
        {
          "output_type": "stream",
          "name": "stderr",
          "text": [
            " 19%|█▊        | 5599/30000 [56:39<3:40:23,  1.85it/s]"
          ]
        },
        {
          "output_type": "stream",
          "name": "stdout",
          "text": [
            "./exp/smpl/example\n",
            "iter:5600 loss = 1.3785237073898315 lr=0.0004658365730985337\n",
            "Validate: iter: 5600, camera: 58\n"
          ]
        },
        {
          "output_type": "stream",
          "name": "stderr",
          "text": [
            " 19%|█▉        | 5699/30000 [57:37<3:38:25,  1.85it/s]"
          ]
        },
        {
          "output_type": "stream",
          "name": "stdout",
          "text": [
            "./exp/smpl/example\n",
            "iter:5700 loss = 1.5260536670684814 lr=0.00046451815248314544\n",
            "Validate: iter: 5700, camera: 58\n"
          ]
        },
        {
          "output_type": "stream",
          "name": "stderr",
          "text": [
            " 19%|█▉        | 5799/30000 [58:35<3:37:43,  1.85it/s]"
          ]
        },
        {
          "output_type": "stream",
          "name": "stdout",
          "text": [
            "./exp/smpl/example\n",
            "iter:5800 loss = 1.3412396907806396 lr=0.00046317682097544695\n",
            "Validate: iter: 5800, camera: 58\n"
          ]
        },
        {
          "output_type": "stream",
          "name": "stderr",
          "text": [
            " 20%|█▉        | 5899/30000 [59:33<3:38:14,  1.84it/s]"
          ]
        },
        {
          "output_type": "stream",
          "name": "stdout",
          "text": [
            "./exp/smpl/example\n",
            "iter:5900 loss = 1.4982578754425049 lr=0.0004618127306959352\n",
            "Validate: iter: 5900, camera: 58\n"
          ]
        },
        {
          "output_type": "stream",
          "name": "stderr",
          "text": [
            " 20%|█▉        | 5999/30000 [1:00:30<3:39:19,  1.82it/s]"
          ]
        },
        {
          "output_type": "stream",
          "name": "stdout",
          "text": [
            "./exp/smpl/example\n",
            "iter:6000 loss = 1.5601112842559814 lr=0.0004604260363461809\n",
            "Validate: iter: 6000, camera: 58\n",
            "threshold: 0.0\n"
          ]
        },
        {
          "output_type": "stream",
          "name": "stderr",
          "text": [
            " 20%|██        | 6099/30000 [1:01:43<3:46:39,  1.76it/s]"
          ]
        },
        {
          "output_type": "stream",
          "name": "stdout",
          "text": [
            "./exp/smpl/example\n",
            "iter:6100 loss = 1.3787572383880615 lr=0.00045901689519128376\n",
            "Validate: iter: 6100, camera: 58\n"
          ]
        },
        {
          "output_type": "stream",
          "name": "stderr",
          "text": [
            " 21%|██        | 6199/30000 [1:02:41<3:43:27,  1.78it/s]"
          ]
        },
        {
          "output_type": "stream",
          "name": "stdout",
          "text": [
            "./exp/smpl/example\n",
            "iter:6200 loss = 1.4231380224227905 lr=0.00045758546704203747\n",
            "Validate: iter: 6200, camera: 58\n"
          ]
        },
        {
          "output_type": "stream",
          "name": "stderr",
          "text": [
            " 21%|██        | 6299/30000 [1:03:38<3:40:49,  1.79it/s]"
          ]
        },
        {
          "output_type": "stream",
          "name": "stdout",
          "text": [
            "./exp/smpl/example\n",
            "iter:6300 loss = 1.3819823265075684 lr=0.00045613191423680483\n",
            "Validate: iter: 6300, camera: 58\n"
          ]
        },
        {
          "output_type": "stream",
          "name": "stderr",
          "text": [
            " 21%|██▏       | 6399/30000 [1:04:36<3:36:33,  1.82it/s]"
          ]
        },
        {
          "output_type": "stream",
          "name": "stdout",
          "text": [
            "./exp/smpl/example\n",
            "iter:6400 loss = 1.5081977844238281 lr=0.0004546564016231077\n",
            "Validate: iter: 6400, camera: 58\n"
          ]
        },
        {
          "output_type": "stream",
          "name": "stderr",
          "text": [
            " 22%|██▏       | 6499/30000 [1:05:34<3:30:56,  1.86it/s]"
          ]
        },
        {
          "output_type": "stream",
          "name": "stdout",
          "text": [
            "./exp/smpl/example\n",
            "iter:6500 loss = 1.390775442123413 lr=0.00045315909653893127\n",
            "Validate: iter: 6500, camera: 58\n",
            "threshold: 0.0\n"
          ]
        },
        {
          "output_type": "stream",
          "name": "stderr",
          "text": [
            " 22%|██▏       | 6599/30000 [1:06:46<3:31:51,  1.84it/s]"
          ]
        },
        {
          "output_type": "stream",
          "name": "stdout",
          "text": [
            "./exp/smpl/example\n",
            "iter:6600 loss = 1.586275577545166 lr=0.000451640168793746\n",
            "Validate: iter: 6600, camera: 58\n"
          ]
        },
        {
          "output_type": "stream",
          "name": "stderr",
          "text": [
            " 22%|██▏       | 6699/30000 [1:07:43<3:30:21,  1.85it/s]"
          ]
        },
        {
          "output_type": "stream",
          "name": "stdout",
          "text": [
            "./exp/smpl/example\n",
            "iter:6700 loss = 1.5931196212768555 lr=0.00045009979064925026\n",
            "Validate: iter: 6700, camera: 58\n"
          ]
        },
        {
          "output_type": "stream",
          "name": "stderr",
          "text": [
            " 23%|██▎       | 6799/30000 [1:08:41<3:29:40,  1.84it/s]"
          ]
        },
        {
          "output_type": "stream",
          "name": "stdout",
          "text": [
            "./exp/smpl/example\n",
            "iter:6800 loss = 1.4163365364074707 lr=0.0004485381367998333\n",
            "Validate: iter: 6800, camera: 58\n"
          ]
        },
        {
          "output_type": "stream",
          "name": "stderr",
          "text": [
            " 23%|██▎       | 6899/30000 [1:09:39<3:39:57,  1.75it/s]"
          ]
        },
        {
          "output_type": "stream",
          "name": "stdout",
          "text": [
            "./exp/smpl/example\n",
            "iter:6900 loss = 1.3511765003204346 lr=0.00044695538435276356\n",
            "Validate: iter: 6900, camera: 58\n"
          ]
        },
        {
          "output_type": "stream",
          "name": "stderr",
          "text": [
            " 23%|██▎       | 6999/30000 [1:10:36<3:36:08,  1.77it/s]"
          ]
        },
        {
          "output_type": "stream",
          "name": "stdout",
          "text": [
            "./exp/smpl/example\n",
            "iter:7000 loss = 1.427903652191162 lr=0.00044535171280810293\n",
            "Validate: iter: 7000, camera: 58\n",
            "threshold: 0.0\n"
          ]
        },
        {
          "output_type": "stream",
          "name": "stderr",
          "text": [
            " 24%|██▎       | 7099/30000 [1:11:48<3:29:23,  1.82it/s]"
          ]
        },
        {
          "output_type": "stream",
          "name": "stdout",
          "text": [
            "./exp/smpl/example\n",
            "iter:7100 loss = 1.671675205230713 lr=0.0004437273040383496\n",
            "Validate: iter: 7100, camera: 58\n"
          ]
        },
        {
          "output_type": "stream",
          "name": "stderr",
          "text": [
            " 24%|██▍       | 7199/30000 [1:12:46<3:25:47,  1.85it/s]"
          ]
        },
        {
          "output_type": "stream",
          "name": "stdout",
          "text": [
            "./exp/smpl/example\n",
            "iter:7200 loss = 1.460066318511963 lr=0.0004420823422678117\n",
            "Validate: iter: 7200, camera: 58\n"
          ]
        },
        {
          "output_type": "stream",
          "name": "stderr",
          "text": [
            " 24%|██▍       | 7299/30000 [1:13:44<3:33:05,  1.78it/s]"
          ]
        },
        {
          "output_type": "stream",
          "name": "stdout",
          "text": [
            "./exp/smpl/example\n",
            "iter:7300 loss = 1.3503236770629883 lr=0.0004404170140517147\n",
            "Validate: iter: 7300, camera: 58\n"
          ]
        },
        {
          "output_type": "stream",
          "name": "stderr",
          "text": [
            " 25%|██▍       | 7399/30000 [1:14:42<3:25:22,  1.83it/s]"
          ]
        },
        {
          "output_type": "stream",
          "name": "stdout",
          "text": [
            "./exp/smpl/example\n",
            "iter:7400 loss = 1.5309250354766846 lr=0.000438731508255044\n",
            "Validate: iter: 7400, camera: 58\n"
          ]
        },
        {
          "output_type": "stream",
          "name": "stderr",
          "text": [
            " 25%|██▍       | 7499/30000 [1:15:40<3:23:57,  1.84it/s]"
          ]
        },
        {
          "output_type": "stream",
          "name": "stdout",
          "text": [
            "./exp/smpl/example\n",
            "iter:7500 loss = 1.4610717296600342 lr=0.00043702601603112584\n",
            "Validate: iter: 7500, camera: 58\n",
            "threshold: 0.0\n"
          ]
        },
        {
          "output_type": "stream",
          "name": "stderr",
          "text": [
            " 25%|██▌       | 7599/30000 [1:16:53<3:31:03,  1.77it/s]"
          ]
        },
        {
          "output_type": "stream",
          "name": "stdout",
          "text": [
            "./exp/smpl/example\n",
            "iter:7600 loss = 1.5486259460449219 lr=0.00043530073079994845\n",
            "Validate: iter: 7600, camera: 58\n"
          ]
        },
        {
          "output_type": "stream",
          "name": "stderr",
          "text": [
            " 26%|██▌       | 7699/30000 [1:17:51<3:23:53,  1.82it/s]"
          ]
        },
        {
          "output_type": "stream",
          "name": "stdout",
          "text": [
            "./exp/smpl/example\n",
            "iter:7700 loss = 1.4824583530426025 lr=0.00043355584822622636\n",
            "Validate: iter: 7700, camera: 58\n"
          ]
        },
        {
          "output_type": "stream",
          "name": "stderr",
          "text": [
            " 26%|██▌       | 7799/30000 [1:18:49<3:31:25,  1.75it/s]"
          ]
        },
        {
          "output_type": "stream",
          "name": "stdout",
          "text": [
            "./exp/smpl/example\n",
            "iter:7800 loss = 1.359716534614563 lr=0.0004317915661972099\n",
            "Validate: iter: 7800, camera: 58\n"
          ]
        },
        {
          "output_type": "stream",
          "name": "stderr",
          "text": [
            " 26%|██▋       | 7899/30000 [1:19:47<3:21:14,  1.83it/s]"
          ]
        },
        {
          "output_type": "stream",
          "name": "stdout",
          "text": [
            "./exp/smpl/example\n",
            "iter:7900 loss = 1.3603477478027344 lr=0.0004300080848002432\n",
            "Validate: iter: 7900, camera: 58\n"
          ]
        },
        {
          "output_type": "stream",
          "name": "stderr",
          "text": [
            " 27%|██▋       | 7999/30000 [1:20:45<3:19:22,  1.84it/s]"
          ]
        },
        {
          "output_type": "stream",
          "name": "stdout",
          "text": [
            "./exp/smpl/example\n",
            "iter:8000 loss = 1.3632993698120117 lr=0.0004282056063000719\n",
            "Validate: iter: 8000, camera: 58\n",
            "threshold: 0.0\n"
          ]
        },
        {
          "output_type": "stream",
          "name": "stderr",
          "text": [
            " 27%|██▋       | 8099/30000 [1:21:57<3:16:43,  1.86it/s]"
          ]
        },
        {
          "output_type": "stream",
          "name": "stdout",
          "text": [
            "./exp/smpl/example\n",
            "iter:8100 loss = 1.3949239253997803 lr=0.00042638433511590435\n",
            "Validate: iter: 8100, camera: 58\n"
          ]
        },
        {
          "output_type": "stream",
          "name": "stderr",
          "text": [
            " 27%|██▋       | 8199/30000 [1:22:55<3:17:46,  1.84it/s]"
          ]
        },
        {
          "output_type": "stream",
          "name": "stdout",
          "text": [
            "./exp/smpl/example\n",
            "iter:8200 loss = 1.4771569967269897 lr=0.0004245444777982285\n",
            "Validate: iter: 8200, camera: 58\n"
          ]
        },
        {
          "output_type": "stream",
          "name": "stderr",
          "text": [
            " 28%|██▊       | 8299/30000 [1:23:53<3:26:11,  1.75it/s]"
          ]
        },
        {
          "output_type": "stream",
          "name": "stdout",
          "text": [
            "./exp/smpl/example\n",
            "iter:8300 loss = 1.3527299165725708 lr=0.000422686243005387\n",
            "Validate: iter: 8300, camera: 58\n"
          ]
        },
        {
          "output_type": "stream",
          "name": "stderr",
          "text": [
            " 28%|██▊       | 8399/30000 [1:24:52<3:19:54,  1.80it/s]"
          ]
        },
        {
          "output_type": "stream",
          "name": "stdout",
          "text": [
            "./exp/smpl/example\n",
            "iter:8400 loss = 1.3887324333190918 lr=0.00042080984147991295\n",
            "Validate: iter: 8400, camera: 58\n"
          ]
        },
        {
          "output_type": "stream",
          "name": "stderr",
          "text": [
            " 28%|██▊       | 8499/30000 [1:25:49<3:24:12,  1.75it/s]"
          ]
        },
        {
          "output_type": "stream",
          "name": "stdout",
          "text": [
            "./exp/smpl/example\n",
            "iter:8500 loss = 1.513359546661377 lr=0.0004189154860246303\n",
            "Validate: iter: 8500, camera: 58\n",
            "threshold: 0.0\n"
          ]
        },
        {
          "output_type": "stream",
          "name": "stderr",
          "text": [
            " 29%|██▊       | 8599/30000 [1:27:02<3:17:03,  1.81it/s]"
          ]
        },
        {
          "output_type": "stream",
          "name": "stdout",
          "text": [
            "./exp/smpl/example\n",
            "iter:8600 loss = 1.6450145244598389 lr=0.0004170033914785188\n",
            "Validate: iter: 8600, camera: 58\n"
          ]
        },
        {
          "output_type": "stream",
          "name": "stderr",
          "text": [
            " 29%|██▉       | 8699/30000 [1:28:00<3:12:59,  1.84it/s]"
          ]
        },
        {
          "output_type": "stream",
          "name": "stdout",
          "text": [
            "./exp/smpl/example\n",
            "iter:8700 loss = 1.3825026750564575 lr=0.00041507377469235027\n",
            "Validate: iter: 8700, camera: 58\n"
          ]
        },
        {
          "output_type": "stream",
          "name": "stderr",
          "text": [
            " 29%|██▉       | 8799/30000 [1:28:58<3:11:05,  1.85it/s]"
          ]
        },
        {
          "output_type": "stream",
          "name": "stdout",
          "text": [
            "./exp/smpl/example\n",
            "iter:8800 loss = 1.5113327503204346 lr=0.0004131268545040945\n",
            "Validate: iter: 8800, camera: 58\n"
          ]
        },
        {
          "output_type": "stream",
          "name": "stderr",
          "text": [
            " 30%|██▉       | 8899/30000 [1:29:56<3:07:55,  1.87it/s]"
          ]
        },
        {
          "output_type": "stream",
          "name": "stdout",
          "text": [
            "./exp/smpl/example\n",
            "iter:8900 loss = 1.3882250785827637 lr=0.0004111628517141015\n",
            "Validate: iter: 8900, camera: 58\n"
          ]
        },
        {
          "output_type": "stream",
          "name": "stderr",
          "text": [
            " 30%|██▉       | 8999/30000 [1:30:54<3:19:00,  1.76it/s]"
          ]
        },
        {
          "output_type": "stream",
          "name": "stdout",
          "text": [
            "./exp/smpl/example\n",
            "iter:9000 loss = 1.5750954151153564 lr=0.00040918198906006036\n",
            "Validate: iter: 9000, camera: 58\n",
            "threshold: 0.0\n"
          ]
        },
        {
          "output_type": "stream",
          "name": "stderr",
          "text": [
            " 30%|███       | 9099/30000 [1:32:06<3:13:30,  1.80it/s]"
          ]
        },
        {
          "output_type": "stream",
          "name": "stdout",
          "text": [
            "./exp/smpl/example\n",
            "iter:9100 loss = 1.4753105640411377 lr=0.00040718449119173827\n",
            "Validate: iter: 9100, camera: 58\n"
          ]
        },
        {
          "output_type": "stream",
          "name": "stderr",
          "text": [
            " 31%|███       | 9199/30000 [1:33:04<3:15:01,  1.78it/s]"
          ]
        },
        {
          "output_type": "stream",
          "name": "stdout",
          "text": [
            "./exp/smpl/example\n",
            "iter:9200 loss = 1.5660406351089478 lr=0.0004051705846455035\n",
            "Validate: iter: 9200, camera: 58\n"
          ]
        },
        {
          "output_type": "stream",
          "name": "stderr",
          "text": [
            " 31%|███       | 9299/30000 [1:34:02<3:13:33,  1.78it/s]"
          ]
        },
        {
          "output_type": "stream",
          "name": "stdout",
          "text": [
            "./exp/smpl/example\n",
            "iter:9300 loss = 1.6666938066482544 lr=0.0004031404978186332\n",
            "Validate: iter: 9300, camera: 58\n"
          ]
        },
        {
          "output_type": "stream",
          "name": "stderr",
          "text": [
            " 31%|███▏      | 9399/30000 [1:34:59<3:10:21,  1.80it/s]"
          ]
        },
        {
          "output_type": "stream",
          "name": "stdout",
          "text": [
            "./exp/smpl/example\n",
            "iter:9400 loss = 1.3613193035125732 lr=0.00040109446094341143\n",
            "Validate: iter: 9400, camera: 58\n"
          ]
        },
        {
          "output_type": "stream",
          "name": "stderr",
          "text": [
            " 32%|███▏      | 9499/30000 [1:35:58<3:06:43,  1.83it/s]"
          ]
        },
        {
          "output_type": "stream",
          "name": "stdout",
          "text": [
            "./exp/smpl/example\n",
            "iter:9500 loss = 1.4274146556854248 lr=0.00039903270606101853\n",
            "Validate: iter: 9500, camera: 58\n",
            "threshold: 0.0\n"
          ]
        },
        {
          "output_type": "stream",
          "name": "stderr",
          "text": [
            " 32%|███▏      | 9599/30000 [1:37:09<3:04:13,  1.85it/s]"
          ]
        },
        {
          "output_type": "stream",
          "name": "stdout",
          "text": [
            "./exp/smpl/example\n",
            "iter:9600 loss = 1.3975838422775269 lr=0.0003969554669952148\n",
            "Validate: iter: 9600, camera: 58\n"
          ]
        },
        {
          "output_type": "stream",
          "name": "stderr",
          "text": [
            " 32%|███▏      | 9699/30000 [1:38:07<3:02:04,  1.86it/s]"
          ]
        },
        {
          "output_type": "stream",
          "name": "stdout",
          "text": [
            "./exp/smpl/example\n",
            "iter:9700 loss = 1.3601460456848145 lr=0.00039486297932582275\n",
            "Validate: iter: 9700, camera: 58\n"
          ]
        },
        {
          "output_type": "stream",
          "name": "stderr",
          "text": [
            " 33%|███▎      | 9799/30000 [1:39:05<3:01:50,  1.85it/s]"
          ]
        },
        {
          "output_type": "stream",
          "name": "stdout",
          "text": [
            "./exp/smpl/example\n",
            "iter:9800 loss = 1.3304356336593628 lr=0.0003927554803620104\n",
            "Validate: iter: 9800, camera: 58\n"
          ]
        },
        {
          "output_type": "stream",
          "name": "stderr",
          "text": [
            " 33%|███▎      | 9899/30000 [1:40:03<3:01:48,  1.84it/s]"
          ]
        },
        {
          "output_type": "stream",
          "name": "stdout",
          "text": [
            "./exp/smpl/example\n",
            "iter:9900 loss = 1.4904541969299316 lr=0.0003906332091153775\n",
            "Validate: iter: 9900, camera: 58\n"
          ]
        },
        {
          "output_type": "stream",
          "name": "stderr",
          "text": [
            " 33%|███▎      | 9999/30000 [1:41:01<3:02:29,  1.83it/s]"
          ]
        },
        {
          "output_type": "stream",
          "name": "stdout",
          "text": [
            "./exp/smpl/example\n",
            "iter:10000 loss = 1.5071237087249756 lr=0.00038849640627284935\n",
            "Validate: iter: 10000, camera: 58\n",
            "threshold: 0.0\n"
          ]
        },
        {
          "output_type": "stream",
          "name": "stderr",
          "text": [
            " 34%|███▎      | 10099/30000 [1:42:13<3:08:07,  1.76it/s]"
          ]
        },
        {
          "output_type": "stream",
          "name": "stdout",
          "text": [
            "./exp/smpl/example\n",
            "iter:10100 loss = 1.3735239505767822 lr=0.0003863453141693805\n",
            "Validate: iter: 10100, camera: 58\n"
          ]
        },
        {
          "output_type": "stream",
          "name": "stderr",
          "text": [
            " 34%|███▍      | 10199/30000 [1:43:10<3:06:26,  1.77it/s]"
          ]
        },
        {
          "output_type": "stream",
          "name": "stdout",
          "text": [
            "./exp/smpl/example\n",
            "iter:10200 loss = 1.6246061325073242 lr=0.0003841801767604718\n",
            "Validate: iter: 10200, camera: 58\n"
          ]
        },
        {
          "output_type": "stream",
          "name": "stderr",
          "text": [
            " 34%|███▍      | 10299/30000 [1:44:08<3:09:56,  1.73it/s]"
          ]
        },
        {
          "output_type": "stream",
          "name": "stdout",
          "text": [
            "./exp/smpl/example\n",
            "iter:10300 loss = 1.3660354614257812 lr=0.0003820012395945027\n",
            "Validate: iter: 10300, camera: 58\n"
          ]
        },
        {
          "output_type": "stream",
          "name": "stderr",
          "text": [
            " 35%|███▍      | 10399/30000 [1:45:06<3:00:07,  1.81it/s]"
          ]
        },
        {
          "output_type": "stream",
          "name": "stdout",
          "text": [
            "./exp/smpl/example\n",
            "iter:10400 loss = 1.4269561767578125 lr=0.0003798087497848844\n",
            "Validate: iter: 10400, camera: 58\n"
          ]
        },
        {
          "output_type": "stream",
          "name": "stderr",
          "text": [
            " 35%|███▍      | 10499/30000 [1:46:04<2:56:05,  1.85it/s]"
          ]
        },
        {
          "output_type": "stream",
          "name": "stdout",
          "text": [
            "./exp/smpl/example\n",
            "iter:10500 loss = 1.3259998559951782 lr=0.0003776029559820342\n",
            "Validate: iter: 10500, camera: 58\n",
            "threshold: 0.0\n"
          ]
        },
        {
          "output_type": "stream",
          "name": "stderr",
          "text": [
            " 35%|███▌      | 10599/30000 [1:47:16<2:55:21,  1.84it/s]"
          ]
        },
        {
          "output_type": "stream",
          "name": "stdout",
          "text": [
            "./exp/smpl/example\n",
            "iter:10600 loss = 1.3918613195419312 lr=0.00037538410834517624\n",
            "Validate: iter: 10600, camera: 58\n"
          ]
        },
        {
          "output_type": "stream",
          "name": "stderr",
          "text": [
            " 36%|███▌      | 10699/30000 [1:48:14<2:55:35,  1.83it/s]"
          ]
        },
        {
          "output_type": "stream",
          "name": "stdout",
          "text": [
            "./exp/smpl/example\n",
            "iter:10700 loss = 1.4343948364257812 lr=0.00037315245851397074\n",
            "Validate: iter: 10700, camera: 58\n"
          ]
        },
        {
          "output_type": "stream",
          "name": "stderr",
          "text": [
            " 36%|███▌      | 10799/30000 [1:49:12<2:53:47,  1.84it/s]"
          ]
        },
        {
          "output_type": "stream",
          "name": "stdout",
          "text": [
            "./exp/smpl/example\n",
            "iter:10800 loss = 1.5803234577178955 lr=0.0003709082595799757\n",
            "Validate: iter: 10800, camera: 58\n"
          ]
        },
        {
          "output_type": "stream",
          "name": "stderr",
          "text": [
            " 36%|███▋      | 10899/30000 [1:50:09<2:56:30,  1.80it/s]"
          ]
        },
        {
          "output_type": "stream",
          "name": "stdout",
          "text": [
            "./exp/smpl/example\n",
            "iter:10900 loss = 1.363311529159546 lr=0.0003686517660579437\n",
            "Validate: iter: 10900, camera: 58\n"
          ]
        },
        {
          "output_type": "stream",
          "name": "stderr",
          "text": [
            " 37%|███▋      | 10999/30000 [1:51:07<2:58:47,  1.77it/s]"
          ]
        },
        {
          "output_type": "stream",
          "name": "stdout",
          "text": [
            "./exp/smpl/example\n",
            "iter:11000 loss = 1.3366782665252686 lr=0.00036638323385695747\n",
            "Validate: iter: 11000, camera: 58\n",
            "threshold: 0.0\n"
          ]
        },
        {
          "output_type": "stream",
          "name": "stderr",
          "text": [
            " 37%|███▋      | 11099/30000 [1:52:19<2:52:25,  1.83it/s]"
          ]
        },
        {
          "output_type": "stream",
          "name": "stdout",
          "text": [
            "./exp/smpl/example\n",
            "iter:11100 loss = 1.4237678050994873 lr=0.0003641029202514071\n",
            "Validate: iter: 11100, camera: 58\n"
          ]
        },
        {
          "output_type": "stream",
          "name": "stderr",
          "text": [
            " 37%|███▋      | 11199/30000 [1:53:17<2:50:29,  1.84it/s]"
          ]
        },
        {
          "output_type": "stream",
          "name": "stdout",
          "text": [
            "./exp/smpl/example\n",
            "iter:11200 loss = 1.6185479164123535 lr=0.0003618110838518123\n",
            "Validate: iter: 11200, camera: 58\n"
          ]
        },
        {
          "output_type": "stream",
          "name": "stderr",
          "text": [
            " 38%|███▊      | 11299/30000 [1:54:15<2:50:07,  1.83it/s]"
          ]
        },
        {
          "output_type": "stream",
          "name": "stdout",
          "text": [
            "./exp/smpl/example\n",
            "iter:11300 loss = 1.3655354976654053 lr=0.000359507984575494\n",
            "Validate: iter: 11300, camera: 58\n"
          ]
        },
        {
          "output_type": "stream",
          "name": "stderr",
          "text": [
            " 38%|███▊      | 11399/30000 [1:55:13<2:47:23,  1.85it/s]"
          ]
        },
        {
          "output_type": "stream",
          "name": "stdout",
          "text": [
            "./exp/smpl/example\n",
            "iter:11400 loss = 1.5424972772598267 lr=0.0003571938836170966\n",
            "Validate: iter: 11400, camera: 58\n"
          ]
        },
        {
          "output_type": "stream",
          "name": "stderr",
          "text": [
            " 38%|███▊      | 11499/30000 [1:56:11<2:51:17,  1.80it/s]"
          ]
        },
        {
          "output_type": "stream",
          "name": "stdout",
          "text": [
            "./exp/smpl/example\n",
            "iter:11500 loss = 1.4088054895401 lr=0.00035486904341896597\n",
            "Validate: iter: 11500, camera: 58\n",
            "threshold: 0.0\n"
          ]
        },
        {
          "output_type": "stream",
          "name": "stderr",
          "text": [
            " 39%|███▊      | 11599/30000 [1:57:24<2:56:47,  1.73it/s]"
          ]
        },
        {
          "output_type": "stream",
          "name": "stdout",
          "text": [
            "./exp/smpl/example\n",
            "iter:11600 loss = 1.3637597560882568 lr=0.00035253372764138593\n",
            "Validate: iter: 11600, camera: 58\n"
          ]
        },
        {
          "output_type": "stream",
          "name": "stderr",
          "text": [
            " 39%|███▉      | 11699/30000 [1:58:22<2:46:45,  1.83it/s]"
          ]
        },
        {
          "output_type": "stream",
          "name": "stdout",
          "text": [
            "./exp/smpl/example\n",
            "iter:11700 loss = 1.4870214462280273 lr=0.00035018820113267646\n",
            "Validate: iter: 11700, camera: 58\n"
          ]
        },
        {
          "output_type": "stream",
          "name": "stderr",
          "text": [
            " 39%|███▉      | 11799/30000 [1:59:19<2:48:48,  1.80it/s]"
          ]
        },
        {
          "output_type": "stream",
          "name": "stdout",
          "text": [
            "./exp/smpl/example\n",
            "iter:11800 loss = 1.4663381576538086 lr=0.00034783272989915724\n",
            "Validate: iter: 11800, camera: 58\n"
          ]
        },
        {
          "output_type": "stream",
          "name": "stderr",
          "text": [
            " 40%|███▉      | 11899/30000 [2:00:17<2:49:36,  1.78it/s]"
          ]
        },
        {
          "output_type": "stream",
          "name": "stdout",
          "text": [
            "./exp/smpl/example\n",
            "iter:11900 loss = 1.502094030380249 lr=0.0003454675810749799\n",
            "Validate: iter: 11900, camera: 58\n"
          ]
        },
        {
          "output_type": "stream",
          "name": "stderr",
          "text": [
            " 40%|███▉      | 11999/30000 [2:01:15<2:53:24,  1.73it/s]"
          ]
        },
        {
          "output_type": "stream",
          "name": "stdout",
          "text": [
            "./exp/smpl/example\n",
            "iter:12000 loss = 1.4165774583816528 lr=0.0003430930228918322\n",
            "Validate: iter: 12000, camera: 58\n",
            "threshold: 0.0\n"
          ]
        },
        {
          "output_type": "stream",
          "name": "stderr",
          "text": [
            " 40%|████      | 12099/30000 [2:02:27<2:46:08,  1.80it/s]"
          ]
        },
        {
          "output_type": "stream",
          "name": "stdout",
          "text": [
            "./exp/smpl/example\n",
            "iter:12100 loss = 1.622650384902954 lr=0.00034070932464851805\n",
            "Validate: iter: 12100, camera: 58\n"
          ]
        },
        {
          "output_type": "stream",
          "name": "stderr",
          "text": [
            " 41%|████      | 12199/30000 [2:03:25<2:40:44,  1.85it/s]"
          ]
        },
        {
          "output_type": "stream",
          "name": "stdout",
          "text": [
            "./exp/smpl/example\n",
            "iter:12200 loss = 1.4918712377548218 lr=0.00033831675668041604\n",
            "Validate: iter: 12200, camera: 58\n"
          ]
        },
        {
          "output_type": "stream",
          "name": "stderr",
          "text": [
            " 41%|████      | 12299/30000 [2:04:24<2:40:04,  1.84it/s]"
          ]
        },
        {
          "output_type": "stream",
          "name": "stdout",
          "text": [
            "./exp/smpl/example\n",
            "iter:12300 loss = 1.4422014951705933 lr=0.00033591559032882104\n",
            "Validate: iter: 12300, camera: 58\n"
          ]
        },
        {
          "output_type": "stream",
          "name": "stderr",
          "text": [
            " 41%|████▏     | 12399/30000 [2:05:22<2:38:16,  1.85it/s]"
          ]
        },
        {
          "output_type": "stream",
          "name": "stdout",
          "text": [
            "./exp/smpl/example\n",
            "iter:12400 loss = 1.376664400100708 lr=0.0003335060979101709\n",
            "Validate: iter: 12400, camera: 58\n"
          ]
        },
        {
          "output_type": "stream",
          "name": "stderr",
          "text": [
            " 42%|████▏     | 12499/30000 [2:06:20<2:36:27,  1.86it/s]"
          ]
        },
        {
          "output_type": "stream",
          "name": "stdout",
          "text": [
            "./exp/smpl/example\n",
            "iter:12500 loss = 1.484437346458435 lr=0.0003310885526851637\n",
            "Validate: iter: 12500, camera: 58\n",
            "threshold: 0.0\n"
          ]
        },
        {
          "output_type": "stream",
          "name": "stderr",
          "text": [
            " 42%|████▏     | 12599/30000 [2:07:31<2:37:32,  1.84it/s]"
          ]
        },
        {
          "output_type": "stream",
          "name": "stdout",
          "text": [
            "./exp/smpl/example\n",
            "iter:12600 loss = 1.341251254081726 lr=0.00032866322882776645\n",
            "Validate: iter: 12600, camera: 58\n"
          ]
        },
        {
          "output_type": "stream",
          "name": "stderr",
          "text": [
            " 42%|████▏     | 12699/30000 [2:08:29<2:37:41,  1.83it/s]"
          ]
        },
        {
          "output_type": "stream",
          "name": "stdout",
          "text": [
            "./exp/smpl/example\n",
            "iter:12700 loss = 1.3708361387252808 lr=0.00032623040139412155\n",
            "Validate: iter: 12700, camera: 58\n"
          ]
        },
        {
          "output_type": "stream",
          "name": "stderr",
          "text": [
            " 43%|████▎     | 12799/30000 [2:09:28<2:41:20,  1.78it/s]"
          ]
        },
        {
          "output_type": "stream",
          "name": "stdout",
          "text": [
            "./exp/smpl/example\n",
            "iter:12800 loss = 1.4475276470184326 lr=0.0003237903462913525\n",
            "Validate: iter: 12800, camera: 58\n"
          ]
        },
        {
          "output_type": "stream",
          "name": "stderr",
          "text": [
            " 43%|████▎     | 12899/30000 [2:10:26<2:37:26,  1.81it/s]"
          ]
        },
        {
          "output_type": "stream",
          "name": "stdout",
          "text": [
            "./exp/smpl/example\n",
            "iter:12900 loss = 1.4093217849731445 lr=0.0003213433402462732\n",
            "Validate: iter: 12900, camera: 58\n"
          ]
        },
        {
          "output_type": "stream",
          "name": "stderr",
          "text": [
            " 43%|████▎     | 12999/30000 [2:11:23<2:33:54,  1.84it/s]"
          ]
        },
        {
          "output_type": "stream",
          "name": "stdout",
          "text": [
            "./exp/smpl/example\n",
            "iter:13000 loss = 1.3923475742340088 lr=0.00031888966077400457\n",
            "Validate: iter: 13000, camera: 58\n",
            "threshold: 0.0\n"
          ]
        },
        {
          "output_type": "stream",
          "name": "stderr",
          "text": [
            " 44%|████▎     | 13099/30000 [2:12:35<2:32:31,  1.85it/s]"
          ]
        },
        {
          "output_type": "stream",
          "name": "stdout",
          "text": [
            "./exp/smpl/example\n",
            "iter:13100 loss = 1.3592519760131836 lr=0.00031642958614650087\n",
            "Validate: iter: 13100, camera: 58\n"
          ]
        },
        {
          "output_type": "stream",
          "name": "stderr",
          "text": [
            " 44%|████▍     | 13199/30000 [2:13:33<2:31:41,  1.85it/s]"
          ]
        },
        {
          "output_type": "stream",
          "name": "stdout",
          "text": [
            "./exp/smpl/example\n",
            "iter:13200 loss = 1.3653898239135742 lr=0.0003139633953609919\n",
            "Validate: iter: 13200, camera: 58\n"
          ]
        },
        {
          "output_type": "stream",
          "name": "stderr",
          "text": [
            " 44%|████▍     | 13299/30000 [2:14:31<2:30:38,  1.85it/s]"
          ]
        },
        {
          "output_type": "stream",
          "name": "stdout",
          "text": [
            "./exp/smpl/example\n",
            "iter:13300 loss = 1.4866994619369507 lr=0.00031149136810834107\n",
            "Validate: iter: 13300, camera: 58\n"
          ]
        },
        {
          "output_type": "stream",
          "name": "stderr",
          "text": [
            " 45%|████▍     | 13399/30000 [2:15:29<2:33:11,  1.81it/s]"
          ]
        },
        {
          "output_type": "stream",
          "name": "stdout",
          "text": [
            "./exp/smpl/example\n",
            "iter:13400 loss = 1.4694502353668213 lr=0.000309013784741326\n",
            "Validate: iter: 13400, camera: 58\n"
          ]
        },
        {
          "output_type": "stream",
          "name": "stderr",
          "text": [
            " 45%|████▍     | 13499/30000 [2:16:27<2:32:46,  1.80it/s]"
          ]
        },
        {
          "output_type": "stream",
          "name": "stdout",
          "text": [
            "./exp/smpl/example\n",
            "iter:13500 loss = 1.4374446868896484 lr=0.0003065309262428435\n",
            "Validate: iter: 13500, camera: 58\n",
            "threshold: 0.0\n"
          ]
        },
        {
          "output_type": "stream",
          "name": "stderr",
          "text": [
            " 45%|████▌     | 13599/30000 [2:17:39<2:30:56,  1.81it/s]"
          ]
        },
        {
          "output_type": "stream",
          "name": "stdout",
          "text": [
            "./exp/smpl/example\n",
            "iter:13600 loss = 1.3353793621063232 lr=0.00030404307419404353\n",
            "Validate: iter: 13600, camera: 58\n"
          ]
        },
        {
          "output_type": "stream",
          "name": "stderr",
          "text": [
            " 46%|████▌     | 13699/30000 [2:18:38<2:28:04,  1.83it/s]"
          ]
        },
        {
          "output_type": "stream",
          "name": "stdout",
          "text": [
            "./exp/smpl/example\n",
            "iter:13700 loss = 1.360849380493164 lr=0.00030155051074239503\n",
            "Validate: iter: 13700, camera: 58\n"
          ]
        },
        {
          "output_type": "stream",
          "name": "stderr",
          "text": [
            " 46%|████▌     | 13799/30000 [2:19:36<2:25:58,  1.85it/s]"
          ]
        },
        {
          "output_type": "stream",
          "name": "stdout",
          "text": [
            "./exp/smpl/example\n",
            "iter:13800 loss = 1.4400883913040161 lr=0.00029905351856968705\n",
            "Validate: iter: 13800, camera: 58\n"
          ]
        },
        {
          "output_type": "stream",
          "name": "stderr",
          "text": [
            " 46%|████▋     | 13899/30000 [2:20:34<2:24:39,  1.85it/s]"
          ]
        },
        {
          "output_type": "stream",
          "name": "stdout",
          "text": [
            "./exp/smpl/example\n",
            "iter:13900 loss = 1.3814661502838135 lr=0.00029655238085997057\n",
            "Validate: iter: 13900, camera: 58\n"
          ]
        },
        {
          "output_type": "stream",
          "name": "stderr",
          "text": [
            " 47%|████▋     | 13999/30000 [2:21:33<2:24:39,  1.84it/s]"
          ]
        },
        {
          "output_type": "stream",
          "name": "stdout",
          "text": [
            "./exp/smpl/example\n",
            "iter:14000 loss = 1.5015757083892822 lr=0.0002940473812674421\n",
            "Validate: iter: 14000, camera: 58\n",
            "threshold: 0.0\n"
          ]
        },
        {
          "output_type": "stream",
          "name": "stderr",
          "text": [
            " 47%|████▋     | 14099/30000 [2:22:45<2:24:54,  1.83it/s]"
          ]
        },
        {
          "output_type": "stream",
          "name": "stdout",
          "text": [
            "./exp/smpl/example\n",
            "iter:14100 loss = 1.5193790197372437 lr=0.0002915388038842746\n",
            "Validate: iter: 14100, camera: 58\n"
          ]
        },
        {
          "output_type": "stream",
          "name": "stderr",
          "text": [
            " 47%|████▋     | 14199/30000 [2:23:43<2:21:27,  1.86it/s]"
          ]
        },
        {
          "output_type": "stream",
          "name": "stdout",
          "text": [
            "./exp/smpl/example\n",
            "iter:14200 loss = 1.4902797937393188 lr=0.00028902693320839837\n",
            "Validate: iter: 14200, camera: 58\n"
          ]
        },
        {
          "output_type": "stream",
          "name": "stderr",
          "text": [
            " 48%|████▊     | 14299/30000 [2:24:40<2:23:00,  1.83it/s]"
          ]
        },
        {
          "output_type": "stream",
          "name": "stdout",
          "text": [
            "./exp/smpl/example\n",
            "iter:14300 loss = 1.375657081604004 lr=0.00028651205411123616\n",
            "Validate: iter: 14300, camera: 58\n"
          ]
        },
        {
          "output_type": "stream",
          "name": "stderr",
          "text": [
            " 48%|████▊     | 14399/30000 [2:25:38<2:25:58,  1.78it/s]"
          ]
        },
        {
          "output_type": "stream",
          "name": "stdout",
          "text": [
            "./exp/smpl/example\n",
            "iter:14400 loss = 1.420831322669983 lr=0.00028399445180539646\n",
            "Validate: iter: 14400, camera: 58\n"
          ]
        },
        {
          "output_type": "stream",
          "name": "stderr",
          "text": [
            " 48%|████▊     | 14499/30000 [2:26:37<2:25:37,  1.77it/s]"
          ]
        },
        {
          "output_type": "stream",
          "name": "stdout",
          "text": [
            "./exp/smpl/example\n",
            "iter:14500 loss = 1.5002470016479492 lr=0.0002814744118123264\n",
            "Validate: iter: 14500, camera: 58\n",
            "threshold: 0.0\n"
          ]
        },
        {
          "output_type": "stream",
          "name": "stderr",
          "text": [
            " 49%|████▊     | 14599/30000 [2:27:49<2:21:54,  1.81it/s]"
          ]
        },
        {
          "output_type": "stream",
          "name": "stdout",
          "text": [
            "./exp/smpl/example\n",
            "iter:14600 loss = 1.4003525972366333 lr=0.00027895221992993197\n",
            "Validate: iter: 14600, camera: 58\n"
          ]
        },
        {
          "output_type": "stream",
          "name": "stderr",
          "text": [
            " 49%|████▉     | 14699/30000 [2:28:47<2:17:36,  1.85it/s]"
          ]
        },
        {
          "output_type": "stream",
          "name": "stdout",
          "text": [
            "./exp/smpl/example\n",
            "iter:14700 loss = 1.4226276874542236 lr=0.00027642816220016465\n",
            "Validate: iter: 14700, camera: 58\n"
          ]
        },
        {
          "output_type": "stream",
          "name": "stderr",
          "text": [
            " 49%|████▉     | 14799/30000 [2:29:46<2:16:27,  1.86it/s]"
          ]
        },
        {
          "output_type": "stream",
          "name": "stdout",
          "text": [
            "./exp/smpl/example\n",
            "iter:14800 loss = 1.4118549823760986 lr=0.000273902524876582\n",
            "Validate: iter: 14800, camera: 58\n"
          ]
        },
        {
          "output_type": "stream",
          "name": "stderr",
          "text": [
            " 50%|████▉     | 14899/30000 [2:30:43<2:16:29,  1.84it/s]"
          ]
        },
        {
          "output_type": "stream",
          "name": "stdout",
          "text": [
            "./exp/smpl/example\n",
            "iter:14900 loss = 1.3654805421829224 lr=0.0002713755943918834\n",
            "Validate: iter: 14900, camera: 58\n"
          ]
        },
        {
          "output_type": "stream",
          "name": "stderr",
          "text": [
            " 50%|████▉     | 14999/30000 [2:31:41<2:16:41,  1.83it/s]"
          ]
        },
        {
          "output_type": "stream",
          "name": "stdout",
          "text": [
            "./exp/smpl/example\n",
            "iter:15000 loss = 1.5270886421203613 lr=0.0002688476573254257\n",
            "Validate: iter: 15000, camera: 58\n",
            "threshold: 0.0\n"
          ]
        },
        {
          "output_type": "stream",
          "name": "stderr",
          "text": [
            " 50%|█████     | 15099/30000 [2:32:52<2:18:21,  1.79it/s]"
          ]
        },
        {
          "output_type": "stream",
          "name": "stdout",
          "text": [
            "./exp/smpl/example\n",
            "iter:15100 loss = 1.5054175853729248 lr=0.00026631900037072217\n",
            "Validate: iter: 15100, camera: 58\n"
          ]
        },
        {
          "output_type": "stream",
          "name": "stderr",
          "text": [
            " 51%|█████     | 15199/30000 [2:33:50<2:19:37,  1.77it/s]"
          ]
        },
        {
          "output_type": "stream",
          "name": "stdout",
          "text": [
            "./exp/smpl/example\n",
            "iter:15200 loss = 1.3491920232772827 lr=0.00026378991030292885\n",
            "Validate: iter: 15200, camera: 58\n"
          ]
        },
        {
          "output_type": "stream",
          "name": "stderr",
          "text": [
            " 51%|█████     | 15299/30000 [2:34:48<2:14:38,  1.82it/s]"
          ]
        },
        {
          "output_type": "stream",
          "name": "stdout",
          "text": [
            "./exp/smpl/example\n",
            "iter:15300 loss = 1.410975456237793 lr=0.00026126067394632103\n",
            "Validate: iter: 15300, camera: 58\n"
          ]
        },
        {
          "output_type": "stream",
          "name": "stderr",
          "text": [
            " 51%|█████▏    | 15399/30000 [2:35:47<2:11:23,  1.85it/s]"
          ]
        },
        {
          "output_type": "stream",
          "name": "stdout",
          "text": [
            "./exp/smpl/example\n",
            "iter:15400 loss = 1.4531161785125732 lr=0.00025873157814176455\n",
            "Validate: iter: 15400, camera: 58\n"
          ]
        },
        {
          "output_type": "stream",
          "name": "stderr",
          "text": [
            " 52%|█████▏    | 15499/30000 [2:36:45<2:12:11,  1.83it/s]"
          ]
        },
        {
          "output_type": "stream",
          "name": "stdout",
          "text": [
            "./exp/smpl/example\n",
            "iter:15500 loss = 1.3692017793655396 lr=0.0002562029097141854\n",
            "Validate: iter: 15500, camera: 58\n",
            "threshold: 0.0\n"
          ]
        },
        {
          "output_type": "stream",
          "name": "stderr",
          "text": [
            " 52%|█████▏    | 15599/30000 [2:37:57<2:09:46,  1.85it/s]"
          ]
        },
        {
          "output_type": "stream",
          "name": "stdout",
          "text": [
            "./exp/smpl/example\n",
            "iter:15600 loss = 1.40169095993042 lr=0.00025367495544004073\n",
            "Validate: iter: 15600, camera: 58\n"
          ]
        },
        {
          "output_type": "stream",
          "name": "stderr",
          "text": [
            " 52%|█████▏    | 15699/30000 [2:38:55<2:08:53,  1.85it/s]"
          ]
        },
        {
          "output_type": "stream",
          "name": "stdout",
          "text": [
            "./exp/smpl/example\n",
            "iter:15700 loss = 1.4691615104675293 lr=0.0002511480020147952\n",
            "Validate: iter: 15700, camera: 58\n"
          ]
        },
        {
          "output_type": "stream",
          "name": "stderr",
          "text": [
            " 53%|█████▎    | 15799/30000 [2:39:53<2:08:09,  1.85it/s]"
          ]
        },
        {
          "output_type": "stream",
          "name": "stdout",
          "text": [
            "./exp/smpl/example\n",
            "iter:15800 loss = 1.5130391120910645 lr=0.00024862233602040756\n",
            "Validate: iter: 15800, camera: 58\n"
          ]
        },
        {
          "output_type": "stream",
          "name": "stderr",
          "text": [
            " 53%|█████▎    | 15899/30000 [2:40:51<2:07:40,  1.84it/s]"
          ]
        },
        {
          "output_type": "stream",
          "name": "stdout",
          "text": [
            "./exp/smpl/example\n",
            "iter:15900 loss = 1.529266595840454 lr=0.0002460982438928286\n",
            "Validate: iter: 15900, camera: 58\n"
          ]
        },
        {
          "output_type": "stream",
          "name": "stderr",
          "text": [
            " 53%|█████▎    | 15999/30000 [2:41:49<2:10:37,  1.79it/s]"
          ]
        },
        {
          "output_type": "stream",
          "name": "stdout",
          "text": [
            "./exp/smpl/example\n",
            "iter:16000 loss = 1.3520828485488892 lr=0.000243576011889517\n",
            "Validate: iter: 16000, camera: 58\n",
            "threshold: 0.0\n"
          ]
        },
        {
          "output_type": "stream",
          "name": "stderr",
          "text": [
            " 54%|█████▎    | 16099/30000 [2:43:01<2:08:13,  1.81it/s]"
          ]
        },
        {
          "output_type": "stream",
          "name": "stdout",
          "text": [
            "./exp/smpl/example\n",
            "iter:16100 loss = 1.4040493965148926 lr=0.00024105592605697438\n",
            "Validate: iter: 16100, camera: 58\n"
          ]
        },
        {
          "output_type": "stream",
          "name": "stderr",
          "text": [
            " 54%|█████▍    | 16199/30000 [2:43:59<2:04:30,  1.85it/s]"
          ]
        },
        {
          "output_type": "stream",
          "name": "stdout",
          "text": [
            "./exp/smpl/example\n",
            "iter:16200 loss = 1.379569411277771 lr=0.00023853827219830524\n",
            "Validate: iter: 16200, camera: 58\n"
          ]
        },
        {
          "output_type": "stream",
          "name": "stderr",
          "text": [
            " 54%|█████▍    | 16299/30000 [2:44:57<2:06:56,  1.80it/s]"
          ]
        },
        {
          "output_type": "stream",
          "name": "stdout",
          "text": [
            "./exp/smpl/example\n",
            "iter:16300 loss = 1.502882719039917 lr=0.00023602333584080354\n",
            "Validate: iter: 16300, camera: 58\n"
          ]
        },
        {
          "output_type": "stream",
          "name": "stderr",
          "text": [
            " 55%|█████▍    | 16399/30000 [2:45:56<2:03:07,  1.84it/s]"
          ]
        },
        {
          "output_type": "stream",
          "name": "stdout",
          "text": [
            "./exp/smpl/example\n",
            "iter:16400 loss = 1.3754221200942993 lr=0.0002335114022035715\n",
            "Validate: iter: 16400, camera: 58\n"
          ]
        },
        {
          "output_type": "stream",
          "name": "stderr",
          "text": [
            " 55%|█████▍    | 16499/30000 [2:46:54<2:03:24,  1.82it/s]"
          ]
        },
        {
          "output_type": "stream",
          "name": "stdout",
          "text": [
            "./exp/smpl/example\n",
            "iter:16500 loss = 1.329913854598999 lr=0.0002310027561651723\n",
            "Validate: iter: 16500, camera: 58\n",
            "threshold: 0.0\n"
          ]
        },
        {
          "output_type": "stream",
          "name": "stderr",
          "text": [
            " 55%|█████▌    | 16599/30000 [2:48:06<2:01:32,  1.84it/s]"
          ]
        },
        {
          "output_type": "stream",
          "name": "stdout",
          "text": [
            "./exp/smpl/example\n",
            "iter:16600 loss = 1.3711869716644287 lr=0.00022849768223132265\n",
            "Validate: iter: 16600, camera: 58\n"
          ]
        },
        {
          "output_type": "stream",
          "name": "stderr",
          "text": [
            " 56%|█████▌    | 16699/30000 [2:49:04<2:03:19,  1.80it/s]"
          ]
        },
        {
          "output_type": "stream",
          "name": "stdout",
          "text": [
            "./exp/smpl/example\n",
            "iter:16700 loss = 1.469054937362671 lr=0.00022599646450262637\n",
            "Validate: iter: 16700, camera: 58\n"
          ]
        },
        {
          "output_type": "stream",
          "name": "stderr",
          "text": [
            " 56%|█████▌    | 16799/30000 [2:50:02<2:04:47,  1.76it/s]"
          ]
        },
        {
          "output_type": "stream",
          "name": "stdout",
          "text": [
            "./exp/smpl/example\n",
            "iter:16800 loss = 1.4560961723327637 lr=0.0002234993866423551\n",
            "Validate: iter: 16800, camera: 58\n"
          ]
        },
        {
          "output_type": "stream",
          "name": "stderr",
          "text": [
            " 56%|█████▋    | 16899/30000 [2:51:00<2:04:58,  1.75it/s]"
          ]
        },
        {
          "output_type": "stream",
          "name": "stdout",
          "text": [
            "./exp/smpl/example\n",
            "iter:16900 loss = 1.4701052904129028 lr=0.0002210067318442773\n",
            "Validate: iter: 16900, camera: 58\n"
          ]
        },
        {
          "output_type": "stream",
          "name": "stderr",
          "text": [
            " 57%|█████▋    | 16999/30000 [2:51:58<2:00:06,  1.80it/s]"
          ]
        },
        {
          "output_type": "stream",
          "name": "stdout",
          "text": [
            "./exp/smpl/example\n",
            "iter:17000 loss = 1.4142014980316162 lr=0.00021851878280054204\n",
            "Validate: iter: 17000, camera: 58\n",
            "threshold: 0.0\n"
          ]
        },
        {
          "output_type": "stream",
          "name": "stderr",
          "text": [
            " 57%|█████▋    | 17099/30000 [2:53:10<1:57:09,  1.84it/s]"
          ]
        },
        {
          "output_type": "stream",
          "name": "stdout",
          "text": [
            "./exp/smpl/example\n",
            "iter:17100 loss = 1.3618581295013428 lr=0.00021603582166961822\n",
            "Validate: iter: 17100, camera: 58\n"
          ]
        },
        {
          "output_type": "stream",
          "name": "stderr",
          "text": [
            " 57%|█████▋    | 17199/30000 [2:54:08<1:55:25,  1.85it/s]"
          ]
        },
        {
          "output_type": "stream",
          "name": "stdout",
          "text": [
            "./exp/smpl/example\n",
            "iter:17200 loss = 1.4432227611541748 lr=0.00021355813004429546\n",
            "Validate: iter: 17200, camera: 58\n"
          ]
        },
        {
          "output_type": "stream",
          "name": "stderr",
          "text": [
            " 58%|█████▊    | 17299/30000 [2:55:07<1:55:17,  1.84it/s]"
          ]
        },
        {
          "output_type": "stream",
          "name": "stdout",
          "text": [
            "./exp/smpl/example\n",
            "iter:17300 loss = 1.3161647319793701 lr=0.00021108598891974803\n",
            "Validate: iter: 17300, camera: 58\n"
          ]
        },
        {
          "output_type": "stream",
          "name": "stderr",
          "text": [
            " 58%|█████▊    | 17399/30000 [2:56:05<1:53:30,  1.85it/s]"
          ]
        },
        {
          "output_type": "stream",
          "name": "stdout",
          "text": [
            "./exp/smpl/example\n",
            "iter:17400 loss = 1.4305098056793213 lr=0.00020861967866166788\n",
            "Validate: iter: 17400, camera: 58\n"
          ]
        },
        {
          "output_type": "stream",
          "name": "stderr",
          "text": [
            " 58%|█████▊    | 17499/30000 [2:57:03<1:54:12,  1.82it/s]"
          ]
        },
        {
          "output_type": "stream",
          "name": "stdout",
          "text": [
            "./exp/smpl/example\n",
            "iter:17500 loss = 1.4010345935821533 lr=0.0002061594789744678\n",
            "Validate: iter: 17500, camera: 58\n",
            "threshold: 0.0\n"
          ]
        },
        {
          "output_type": "stream",
          "name": "stderr",
          "text": [
            " 59%|█████▊    | 17599/30000 [2:58:15<1:53:51,  1.82it/s]"
          ]
        },
        {
          "output_type": "stream",
          "name": "stdout",
          "text": [
            "./exp/smpl/example\n",
            "iter:17600 loss = 1.473293662071228 lr=0.00020370566886956056\n",
            "Validate: iter: 17600, camera: 58\n"
          ]
        },
        {
          "output_type": "stream",
          "name": "stderr",
          "text": [
            " 59%|█████▉    | 17699/30000 [2:59:13<1:54:31,  1.79it/s]"
          ]
        },
        {
          "output_type": "stream",
          "name": "stdout",
          "text": [
            "./exp/smpl/example\n",
            "iter:17700 loss = 1.4443377256393433 lr=0.00020125852663371562\n",
            "Validate: iter: 17700, camera: 58\n"
          ]
        },
        {
          "output_type": "stream",
          "name": "stderr",
          "text": [
            " 59%|█████▉    | 17799/30000 [3:00:10<1:53:25,  1.79it/s]"
          ]
        },
        {
          "output_type": "stream",
          "name": "stdout",
          "text": [
            "./exp/smpl/example\n",
            "iter:17800 loss = 1.3517080545425415 lr=0.0001988183297974991\n",
            "Validate: iter: 17800, camera: 58\n"
          ]
        },
        {
          "output_type": "stream",
          "name": "stderr",
          "text": [
            " 60%|█████▉    | 17899/30000 [3:01:07<1:51:18,  1.81it/s]"
          ]
        },
        {
          "output_type": "stream",
          "name": "stdout",
          "text": [
            "./exp/smpl/example\n",
            "iter:17900 loss = 1.3778468370437622 lr=0.0001963853551037991\n",
            "Validate: iter: 17900, camera: 58\n"
          ]
        },
        {
          "output_type": "stream",
          "name": "stderr",
          "text": [
            " 60%|█████▉    | 17999/30000 [3:02:05<1:48:10,  1.85it/s]"
          ]
        },
        {
          "output_type": "stream",
          "name": "stdout",
          "text": [
            "./exp/smpl/example\n",
            "iter:18000 loss = 1.4757404327392578 lr=0.00019395987847643968\n",
            "Validate: iter: 18000, camera: 58\n",
            "threshold: 0.0\n"
          ]
        },
        {
          "output_type": "stream",
          "name": "stderr",
          "text": [
            " 60%|██████    | 18099/30000 [3:03:17<1:46:25,  1.86it/s]"
          ]
        },
        {
          "output_type": "stream",
          "name": "stdout",
          "text": [
            "./exp/smpl/example\n",
            "iter:18100 loss = 1.356791377067566 lr=0.00019154217498888902\n",
            "Validate: iter: 18100, camera: 58\n"
          ]
        },
        {
          "output_type": "stream",
          "name": "stderr",
          "text": [
            " 61%|██████    | 18199/30000 [3:04:16<1:46:31,  1.85it/s]"
          ]
        },
        {
          "output_type": "stream",
          "name": "stdout",
          "text": [
            "./exp/smpl/example\n",
            "iter:18200 loss = 1.4923546314239502 lr=0.0001891325188330627\n",
            "Validate: iter: 18200, camera: 58\n"
          ]
        },
        {
          "output_type": "stream",
          "name": "stderr",
          "text": [
            " 61%|██████    | 18299/30000 [3:05:14<1:46:38,  1.83it/s]"
          ]
        },
        {
          "output_type": "stream",
          "name": "stdout",
          "text": [
            "./exp/smpl/example\n",
            "iter:18300 loss = 1.3758835792541504 lr=0.00018673118328822825\n",
            "Validate: iter: 18300, camera: 58\n"
          ]
        },
        {
          "output_type": "stream",
          "name": "stderr",
          "text": [
            " 61%|██████▏   | 18399/30000 [3:06:12<1:45:24,  1.83it/s]"
          ]
        },
        {
          "output_type": "stream",
          "name": "stdout",
          "text": [
            "./exp/smpl/example\n",
            "iter:18400 loss = 1.4304174184799194 lr=0.00018433844069001165\n",
            "Validate: iter: 18400, camera: 58\n"
          ]
        },
        {
          "output_type": "stream",
          "name": "stderr",
          "text": [
            " 62%|██████▏   | 18499/30000 [3:07:10<1:47:18,  1.79it/s]"
          ]
        },
        {
          "output_type": "stream",
          "name": "stdout",
          "text": [
            "./exp/smpl/example\n",
            "iter:18500 loss = 1.3397810459136963 lr=0.00018195456239951266\n",
            "Validate: iter: 18500, camera: 58\n",
            "threshold: 0.0\n"
          ]
        },
        {
          "output_type": "stream",
          "name": "stderr",
          "text": [
            " 62%|██████▏   | 18599/30000 [3:08:23<1:48:28,  1.75it/s]"
          ]
        },
        {
          "output_type": "stream",
          "name": "stdout",
          "text": [
            "./exp/smpl/example\n",
            "iter:18600 loss = 1.344436764717102 lr=0.00017957981877252902\n",
            "Validate: iter: 18600, camera: 58\n"
          ]
        },
        {
          "output_type": "stream",
          "name": "stderr",
          "text": [
            " 62%|██████▏   | 18699/30000 [3:09:21<1:46:53,  1.76it/s]"
          ]
        },
        {
          "output_type": "stream",
          "name": "stdout",
          "text": [
            "./exp/smpl/example\n",
            "iter:18700 loss = 1.3730733394622803 lr=0.00017721447912889587\n",
            "Validate: iter: 18700, camera: 58\n"
          ]
        },
        {
          "output_type": "stream",
          "name": "stderr",
          "text": [
            " 63%|██████▎   | 18799/30000 [3:10:19<1:43:45,  1.80it/s]"
          ]
        },
        {
          "output_type": "stream",
          "name": "stdout",
          "text": [
            "./exp/smpl/example\n",
            "iter:18800 loss = 1.3809337615966797 lr=0.0001748588117219418\n",
            "Validate: iter: 18800, camera: 58\n"
          ]
        },
        {
          "output_type": "stream",
          "name": "stderr",
          "text": [
            " 63%|██████▎   | 18899/30000 [3:11:17<1:40:06,  1.85it/s]"
          ]
        },
        {
          "output_type": "stream",
          "name": "stdout",
          "text": [
            "./exp/smpl/example\n",
            "iter:18900 loss = 1.4265732765197754 lr=0.0001725130837080664\n",
            "Validate: iter: 18900, camera: 58\n"
          ]
        },
        {
          "output_type": "stream",
          "name": "stderr",
          "text": [
            " 63%|██████▎   | 18999/30000 [3:12:15<1:38:20,  1.86it/s]"
          ]
        },
        {
          "output_type": "stream",
          "name": "stdout",
          "text": [
            "./exp/smpl/example\n",
            "iter:19000 loss = 1.318353533744812 lr=0.00017017756111644214\n",
            "Validate: iter: 19000, camera: 58\n",
            "threshold: 0.0\n"
          ]
        },
        {
          "output_type": "stream",
          "name": "stderr",
          "text": [
            " 64%|██████▎   | 19099/30000 [3:13:26<1:38:02,  1.85it/s]"
          ]
        },
        {
          "output_type": "stream",
          "name": "stdout",
          "text": [
            "./exp/smpl/example\n",
            "iter:19100 loss = 1.3319727182388306 lr=0.00016785250881884387\n",
            "Validate: iter: 19100, camera: 58\n"
          ]
        },
        {
          "output_type": "stream",
          "name": "stderr",
          "text": [
            " 64%|██████▍   | 19199/30000 [3:14:24<1:37:49,  1.84it/s]"
          ]
        },
        {
          "output_type": "stream",
          "name": "stdout",
          "text": [
            "./exp/smpl/example\n",
            "iter:19200 loss = 1.4811158180236816 lr=0.00016553819049960945\n",
            "Validate: iter: 19200, camera: 58\n"
          ]
        },
        {
          "output_type": "stream",
          "name": "stderr",
          "text": [
            " 64%|██████▍   | 19299/30000 [3:15:22<1:37:44,  1.82it/s]"
          ]
        },
        {
          "output_type": "stream",
          "name": "stdout",
          "text": [
            "./exp/smpl/example\n",
            "iter:19300 loss = 1.3947207927703857 lr=0.0001632348686257358\n",
            "Validate: iter: 19300, camera: 58\n"
          ]
        },
        {
          "output_type": "stream",
          "name": "stderr",
          "text": [
            " 65%|██████▍   | 19399/30000 [3:16:19<1:40:12,  1.76it/s]"
          ]
        },
        {
          "output_type": "stream",
          "name": "stdout",
          "text": [
            "./exp/smpl/example\n",
            "iter:19400 loss = 1.3985239267349243 lr=0.00016094280441711201\n",
            "Validate: iter: 19400, camera: 58\n"
          ]
        },
        {
          "output_type": "stream",
          "name": "stderr",
          "text": [
            " 65%|██████▍   | 19499/30000 [3:17:17<1:37:30,  1.79it/s]"
          ]
        },
        {
          "output_type": "stream",
          "name": "stdout",
          "text": [
            "./exp/smpl/example\n",
            "iter:19500 loss = 1.4113706350326538 lr=0.00015866225781689477\n",
            "Validate: iter: 19500, camera: 58\n",
            "threshold: 0.0\n"
          ]
        },
        {
          "output_type": "stream",
          "name": "stderr",
          "text": [
            " 65%|██████▌   | 19599/30000 [3:18:28<1:33:56,  1.85it/s]"
          ]
        },
        {
          "output_type": "stream",
          "name": "stdout",
          "text": [
            "./exp/smpl/example\n",
            "iter:19600 loss = 1.3207826614379883 lr=0.000156393487462028\n",
            "Validate: iter: 19600, camera: 58\n"
          ]
        },
        {
          "output_type": "stream",
          "name": "stderr",
          "text": [
            " 66%|██████▌   | 19699/30000 [3:19:26<1:32:18,  1.86it/s]"
          ]
        },
        {
          "output_type": "stream",
          "name": "stdout",
          "text": [
            "./exp/smpl/example\n",
            "iter:19700 loss = 1.3983463048934937 lr=0.00015413675065391078\n",
            "Validate: iter: 19700, camera: 58\n"
          ]
        },
        {
          "output_type": "stream",
          "name": "stderr",
          "text": [
            " 66%|██████▌   | 19799/30000 [3:20:24<1:33:11,  1.82it/s]"
          ]
        },
        {
          "output_type": "stream",
          "name": "stdout",
          "text": [
            "./exp/smpl/example\n",
            "iter:19800 loss = 1.4234397411346436 lr=0.0001518923033292168\n",
            "Validate: iter: 19800, camera: 58\n"
          ]
        },
        {
          "output_type": "stream",
          "name": "stderr",
          "text": [
            " 66%|██████▋   | 19899/30000 [3:21:23<1:31:00,  1.85it/s]"
          ]
        },
        {
          "output_type": "stream",
          "name": "stdout",
          "text": [
            "./exp/smpl/example\n",
            "iter:19900 loss = 1.315964698791504 lr=0.00014966040003086875\n",
            "Validate: iter: 19900, camera: 58\n"
          ]
        },
        {
          "output_type": "stream",
          "name": "stderr",
          "text": [
            " 67%|██████▋   | 19999/30000 [3:22:20<1:29:51,  1.85it/s]"
          ]
        },
        {
          "output_type": "stream",
          "name": "stdout",
          "text": [
            "./exp/smpl/example\n",
            "iter:20000 loss = 1.4208080768585205 lr=0.0001474412938791702\n",
            "Validate: iter: 20000, camera: 58\n",
            "threshold: 0.0\n"
          ]
        },
        {
          "output_type": "stream",
          "name": "stderr",
          "text": [
            " 67%|██████▋   | 20099/30000 [3:23:32<1:30:42,  1.82it/s]"
          ]
        },
        {
          "output_type": "stream",
          "name": "stdout",
          "text": [
            "./exp/smpl/example\n",
            "iter:20100 loss = 1.4712555408477783 lr=0.00014523523654309985\n",
            "Validate: iter: 20100, camera: 58\n"
          ]
        },
        {
          "output_type": "stream",
          "name": "stderr",
          "text": [
            " 67%|██████▋   | 20199/30000 [3:24:30<1:32:39,  1.76it/s]"
          ]
        },
        {
          "output_type": "stream",
          "name": "stdout",
          "text": [
            "./exp/smpl/example\n",
            "iter:20200 loss = 1.3290395736694336 lr=0.00014304247821176884\n",
            "Validate: iter: 20200, camera: 58\n"
          ]
        },
        {
          "output_type": "stream",
          "name": "stderr",
          "text": [
            " 68%|██████▊   | 20299/30000 [3:25:28<1:31:22,  1.77it/s]"
          ]
        },
        {
          "output_type": "stream",
          "name": "stdout",
          "text": [
            "./exp/smpl/example\n",
            "iter:20300 loss = 1.3886895179748535 lr=0.00014086326756604768\n",
            "Validate: iter: 20300, camera: 58\n"
          ]
        },
        {
          "output_type": "stream",
          "name": "stderr",
          "text": [
            " 68%|██████▊   | 20399/30000 [3:26:25<1:29:44,  1.78it/s]"
          ]
        },
        {
          "output_type": "stream",
          "name": "stdout",
          "text": [
            "./exp/smpl/example\n",
            "iter:20400 loss = 1.5202224254608154 lr=0.00013869785175036286\n",
            "Validate: iter: 20400, camera: 58\n"
          ]
        },
        {
          "output_type": "stream",
          "name": "stderr",
          "text": [
            " 68%|██████▊   | 20499/30000 [3:27:23<1:27:26,  1.81it/s]"
          ]
        },
        {
          "output_type": "stream",
          "name": "stdout",
          "text": [
            "./exp/smpl/example\n",
            "iter:20500 loss = 1.3216257095336914 lr=0.00013654647634466809\n",
            "Validate: iter: 20500, camera: 58\n",
            "threshold: 0.0\n"
          ]
        },
        {
          "output_type": "stream",
          "name": "stderr",
          "text": [
            " 69%|██████▊   | 20599/30000 [3:28:36<1:24:59,  1.84it/s]"
          ]
        },
        {
          "output_type": "stream",
          "name": "stdout",
          "text": [
            "./exp/smpl/example\n",
            "iter:20600 loss = 1.5013139247894287 lr=0.0001344093853365935\n",
            "Validate: iter: 20600, camera: 58\n"
          ]
        },
        {
          "output_type": "stream",
          "name": "stderr",
          "text": [
            " 69%|██████▉   | 20699/30000 [3:29:34<1:24:11,  1.84it/s]"
          ]
        },
        {
          "output_type": "stream",
          "name": "stdout",
          "text": [
            "./exp/smpl/example\n",
            "iter:20700 loss = 1.4563205242156982 lr=0.00013228682109377437\n",
            "Validate: iter: 20700, camera: 58\n"
          ]
        },
        {
          "output_type": "stream",
          "name": "stderr",
          "text": [
            " 69%|██████▉   | 20799/30000 [3:30:32<1:23:20,  1.84it/s]"
          ]
        },
        {
          "output_type": "stream",
          "name": "stdout",
          "text": [
            "./exp/smpl/example\n",
            "iter:20800 loss = 1.3848950862884521 lr=0.00013017902433636502\n",
            "Validate: iter: 20800, camera: 58\n"
          ]
        },
        {
          "output_type": "stream",
          "name": "stderr",
          "text": [
            " 70%|██████▉   | 20899/30000 [3:31:30<1:22:15,  1.84it/s]"
          ]
        },
        {
          "output_type": "stream",
          "name": "stdout",
          "text": [
            "./exp/smpl/example\n",
            "iter:20900 loss = 1.3794975280761719 lr=0.00012808623410973775\n",
            "Validate: iter: 20900, camera: 58\n"
          ]
        },
        {
          "output_type": "stream",
          "name": "stderr",
          "text": [
            " 70%|██████▉   | 20999/30000 [3:32:28<1:23:25,  1.80it/s]"
          ]
        },
        {
          "output_type": "stream",
          "name": "stdout",
          "text": [
            "./exp/smpl/example\n",
            "iter:21000 loss = 1.4163259267807007 lr=0.00012600868775737348\n",
            "Validate: iter: 21000, camera: 58\n",
            "threshold: 0.0\n"
          ]
        },
        {
          "output_type": "stream",
          "name": "stderr",
          "text": [
            " 70%|███████   | 21099/30000 [3:33:40<1:21:44,  1.81it/s]"
          ]
        },
        {
          "output_type": "stream",
          "name": "stdout",
          "text": [
            "./exp/smpl/example\n",
            "iter:21100 loss = 1.368133783340454 lr=0.00012394662089394438\n",
            "Validate: iter: 21100, camera: 58\n"
          ]
        },
        {
          "output_type": "stream",
          "name": "stderr",
          "text": [
            " 71%|███████   | 21199/30000 [3:34:38<1:24:15,  1.74it/s]"
          ]
        },
        {
          "output_type": "stream",
          "name": "stdout",
          "text": [
            "./exp/smpl/example\n",
            "iter:21200 loss = 1.5568772554397583 lr=0.00012190026737859266\n",
            "Validate: iter: 21200, camera: 58\n"
          ]
        },
        {
          "output_type": "stream",
          "name": "stderr",
          "text": [
            " 71%|███████   | 21299/30000 [3:35:36<1:21:26,  1.78it/s]"
          ]
        },
        {
          "output_type": "stream",
          "name": "stdout",
          "text": [
            "./exp/smpl/example\n",
            "iter:21300 loss = 1.4240649938583374 lr=0.0001198698592884085\n",
            "Validate: iter: 21300, camera: 58\n"
          ]
        },
        {
          "output_type": "stream",
          "name": "stderr",
          "text": [
            " 71%|███████▏  | 21399/30000 [3:36:34<1:17:35,  1.85it/s]"
          ]
        },
        {
          "output_type": "stream",
          "name": "stdout",
          "text": [
            "./exp/smpl/example\n",
            "iter:21400 loss = 1.5485296249389648 lr=0.00011785562689211054\n",
            "Validate: iter: 21400, camera: 58\n"
          ]
        },
        {
          "output_type": "stream",
          "name": "stderr",
          "text": [
            " 72%|███████▏  | 21499/30000 [3:37:31<1:16:33,  1.85it/s]"
          ]
        },
        {
          "output_type": "stream",
          "name": "stdout",
          "text": [
            "./exp/smpl/example\n",
            "iter:21500 loss = 1.363792061805725 lr=0.00011585779862393073\n",
            "Validate: iter: 21500, camera: 58\n",
            "threshold: 0.0\n"
          ]
        },
        {
          "output_type": "stream",
          "name": "stderr",
          "text": [
            " 72%|███████▏  | 21599/30000 [3:38:43<1:15:35,  1.85it/s]"
          ]
        },
        {
          "output_type": "stream",
          "name": "stdout",
          "text": [
            "./exp/smpl/example\n",
            "iter:21600 loss = 1.3726701736450195 lr=0.00011387660105770798\n",
            "Validate: iter: 21600, camera: 58\n"
          ]
        },
        {
          "output_type": "stream",
          "name": "stderr",
          "text": [
            " 72%|███████▏  | 21699/30000 [3:39:41<1:14:51,  1.85it/s]"
          ]
        },
        {
          "output_type": "stream",
          "name": "stdout",
          "text": [
            "./exp/smpl/example\n",
            "iter:21700 loss = 1.3431460857391357 lr=0.0001119122588811918\n",
            "Validate: iter: 21700, camera: 58\n"
          ]
        },
        {
          "output_type": "stream",
          "name": "stderr",
          "text": [
            " 73%|███████▎  | 21799/30000 [3:40:39<1:15:33,  1.81it/s]"
          ]
        },
        {
          "output_type": "stream",
          "name": "stdout",
          "text": [
            "./exp/smpl/example\n",
            "iter:21800 loss = 1.3556499481201172 lr=0.0001099649948705612\n",
            "Validate: iter: 21800, camera: 58\n"
          ]
        },
        {
          "output_type": "stream",
          "name": "stderr",
          "text": [
            " 73%|███████▎  | 21899/30000 [3:41:38<1:15:13,  1.79it/s]"
          ]
        },
        {
          "output_type": "stream",
          "name": "stdout",
          "text": [
            "./exp/smpl/example\n",
            "iter:21900 loss = 1.4600026607513428 lr=0.000108035029865159\n",
            "Validate: iter: 21900, camera: 58\n"
          ]
        },
        {
          "output_type": "stream",
          "name": "stderr",
          "text": [
            " 73%|███████▎  | 21999/30000 [3:42:36<1:16:14,  1.75it/s]"
          ]
        },
        {
          "output_type": "stream",
          "name": "stdout",
          "text": [
            "./exp/smpl/example\n",
            "iter:22000 loss = 1.3195266723632812 lr=0.00010612258274244685\n",
            "Validate: iter: 22000, camera: 58\n",
            "threshold: 0.0\n"
          ]
        },
        {
          "output_type": "stream",
          "name": "stderr",
          "text": [
            " 74%|███████▎  | 22099/30000 [3:43:47<1:17:49,  1.69it/s]"
          ]
        },
        {
          "output_type": "stream",
          "name": "stdout",
          "text": [
            "./exp/smpl/example\n",
            "iter:22100 loss = 1.3536067008972168 lr=0.00010422787039318185\n",
            "Validate: iter: 22100, camera: 58\n"
          ]
        },
        {
          "output_type": "stream",
          "name": "stderr",
          "text": [
            " 74%|███████▍  | 22199/30000 [3:44:45<1:12:19,  1.80it/s]"
          ]
        },
        {
          "output_type": "stream",
          "name": "stdout",
          "text": [
            "./exp/smpl/example\n",
            "iter:22200 loss = 1.4326847791671753 lr=0.00010235110769681965\n",
            "Validate: iter: 22200, camera: 58\n"
          ]
        },
        {
          "output_type": "stream",
          "name": "stderr",
          "text": [
            " 74%|███████▍  | 22299/30000 [3:45:43<1:09:23,  1.85it/s]"
          ]
        },
        {
          "output_type": "stream",
          "name": "stdout",
          "text": [
            "./exp/smpl/example\n",
            "iter:22300 loss = 1.4048430919647217 lr=0.00010049250749714412\n",
            "Validate: iter: 22300, camera: 58\n"
          ]
        },
        {
          "output_type": "stream",
          "name": "stderr",
          "text": [
            " 75%|███████▍  | 22399/30000 [3:46:41<1:08:59,  1.84it/s]"
          ]
        },
        {
          "output_type": "stream",
          "name": "stdout",
          "text": [
            "./exp/smpl/example\n",
            "iter:22400 loss = 1.3456552028656006 lr=9.865228057812953e-05\n",
            "Validate: iter: 22400, camera: 58\n"
          ]
        },
        {
          "output_type": "stream",
          "name": "stderr",
          "text": [
            " 75%|███████▍  | 22499/30000 [3:47:39<1:07:12,  1.86it/s]"
          ]
        },
        {
          "output_type": "stream",
          "name": "stdout",
          "text": [
            "./exp/smpl/example\n",
            "iter:22500 loss = 1.3838157653808594 lr=9.683063564003484e-05\n",
            "Validate: iter: 22500, camera: 58\n",
            "threshold: 0.0\n"
          ]
        },
        {
          "output_type": "stream",
          "name": "stderr",
          "text": [
            " 75%|███████▌  | 22599/30000 [3:48:51<1:06:55,  1.84it/s]"
          ]
        },
        {
          "output_type": "stream",
          "name": "stdout",
          "text": [
            "./exp/smpl/example\n",
            "iter:22600 loss = 1.421126127243042 lr=9.502777927573553e-05\n",
            "Validate: iter: 22600, camera: 58\n"
          ]
        },
        {
          "output_type": "stream",
          "name": "stderr",
          "text": [
            " 76%|███████▌  | 22699/30000 [3:49:49<1:05:51,  1.85it/s]"
          ]
        },
        {
          "output_type": "stream",
          "name": "stdout",
          "text": [
            "./exp/smpl/example\n",
            "iter:22700 loss = 1.5220012664794922 lr=9.324391594729359e-05\n",
            "Validate: iter: 22700, camera: 58\n"
          ]
        },
        {
          "output_type": "stream",
          "name": "stderr",
          "text": [
            " 76%|███████▌  | 22799/30000 [3:50:47<1:04:58,  1.85it/s]"
          ]
        },
        {
          "output_type": "stream",
          "name": "stdout",
          "text": [
            "./exp/smpl/example\n",
            "iter:22800 loss = 1.411086082458496 lr=9.147924796276952e-05\n",
            "Validate: iter: 22800, camera: 58\n"
          ]
        },
        {
          "output_type": "stream",
          "name": "stderr",
          "text": [
            " 76%|███████▋  | 22899/30000 [3:51:45<1:05:26,  1.81it/s]"
          ]
        },
        {
          "output_type": "stream",
          "name": "stdout",
          "text": [
            "./exp/smpl/example\n",
            "iter:22900 loss = 1.3507813215255737 lr=8.973397545327852e-05\n",
            "Validate: iter: 22900, camera: 58\n"
          ]
        },
        {
          "output_type": "stream",
          "name": "stderr",
          "text": [
            " 77%|███████▋  | 22999/30000 [3:52:43<1:03:36,  1.83it/s]"
          ]
        },
        {
          "output_type": "stream",
          "name": "stdout",
          "text": [
            "./exp/smpl/example\n",
            "iter:23000 loss = 1.3478608131408691 lr=8.800829635029378e-05\n",
            "Validate: iter: 23000, camera: 58\n",
            "threshold: 0.0\n"
          ]
        },
        {
          "output_type": "stream",
          "name": "stderr",
          "text": [
            " 77%|███████▋  | 23099/30000 [3:53:55<1:04:34,  1.78it/s]"
          ]
        },
        {
          "output_type": "stream",
          "name": "stdout",
          "text": [
            "./exp/smpl/example\n",
            "iter:23100 loss = 1.4138870239257812 lr=8.630240636319882e-05\n",
            "Validate: iter: 23100, camera: 58\n"
          ]
        },
        {
          "output_type": "stream",
          "name": "stderr",
          "text": [
            " 77%|███████▋  | 23199/30000 [3:54:52<1:03:26,  1.79it/s]"
          ]
        },
        {
          "output_type": "stream",
          "name": "stdout",
          "text": [
            "./exp/smpl/example\n",
            "iter:23200 loss = 1.5050995349884033 lr=8.461649895709213e-05\n",
            "Validate: iter: 23200, camera: 58\n"
          ]
        },
        {
          "output_type": "stream",
          "name": "stderr",
          "text": [
            " 78%|███████▊  | 23299/30000 [3:55:50<1:01:44,  1.81it/s]"
          ]
        },
        {
          "output_type": "stream",
          "name": "stdout",
          "text": [
            "./exp/smpl/example\n",
            "iter:23300 loss = 1.3409695625305176 lr=8.295076533084661e-05\n",
            "Validate: iter: 23300, camera: 58\n"
          ]
        },
        {
          "output_type": "stream",
          "name": "stderr",
          "text": [
            " 78%|███████▊  | 23399/30000 [3:56:48<59:32,  1.85it/s]"
          ]
        },
        {
          "output_type": "stream",
          "name": "stdout",
          "text": [
            "./exp/smpl/example\n",
            "iter:23400 loss = 1.3892521858215332 lr=8.130539439542503e-05\n",
            "Validate: iter: 23400, camera: 58\n"
          ]
        },
        {
          "output_type": "stream",
          "name": "stderr",
          "text": [
            " 78%|███████▊  | 23499/30000 [3:57:46<58:23,  1.86it/s]"
          ]
        },
        {
          "output_type": "stream",
          "name": "stdout",
          "text": [
            "./exp/smpl/example\n",
            "iter:23500 loss = 1.6291276216506958 lr=7.968057275245652e-05\n",
            "Validate: iter: 23500, camera: 58\n",
            "threshold: 0.0\n"
          ]
        },
        {
          "output_type": "stream",
          "name": "stderr",
          "text": [
            " 79%|███████▊  | 23599/30000 [3:58:57<57:30,  1.86it/s]"
          ]
        },
        {
          "output_type": "stream",
          "name": "stdout",
          "text": [
            "./exp/smpl/example\n",
            "iter:23600 loss = 1.6320096254348755 lr=7.80764846730731e-05\n",
            "Validate: iter: 23600, camera: 58\n"
          ]
        },
        {
          "output_type": "stream",
          "name": "stderr",
          "text": [
            " 79%|███████▉  | 23699/30000 [3:59:55<56:37,  1.85it/s]"
          ]
        },
        {
          "output_type": "stream",
          "name": "stdout",
          "text": [
            "./exp/smpl/example\n",
            "iter:23700 loss = 1.445556640625 lr=7.649331207701229e-05\n",
            "Validate: iter: 23700, camera: 58\n"
          ]
        },
        {
          "output_type": "stream",
          "name": "stderr",
          "text": [
            " 79%|███████▉  | 23799/30000 [4:00:52<58:29,  1.77it/s]"
          ]
        },
        {
          "output_type": "stream",
          "name": "stdout",
          "text": [
            "./exp/smpl/example\n",
            "iter:23800 loss = 1.3259872198104858 lr=7.493123451198488e-05\n",
            "Validate: iter: 23800, camera: 58\n"
          ]
        },
        {
          "output_type": "stream",
          "name": "stderr",
          "text": [
            " 80%|███████▉  | 23899/30000 [4:01:50<55:33,  1.83it/s]"
          ]
        },
        {
          "output_type": "stream",
          "name": "stdout",
          "text": [
            "./exp/smpl/example\n",
            "iter:23900 loss = 1.3278638124465942 lr=7.339042913331318e-05\n",
            "Validate: iter: 23900, camera: 58\n"
          ]
        },
        {
          "output_type": "stream",
          "name": "stderr",
          "text": [
            " 80%|███████▉  | 23999/30000 [4:02:47<56:18,  1.78it/s]"
          ]
        },
        {
          "output_type": "stream",
          "name": "stdout",
          "text": [
            "./exp/smpl/example\n",
            "iter:24000 loss = 1.2962062358856201 lr=7.187107068383897e-05\n",
            "Validate: iter: 24000, camera: 58\n",
            "threshold: 0.0\n"
          ]
        },
        {
          "output_type": "stream",
          "name": "stderr",
          "text": [
            " 80%|████████  | 24099/30000 [4:03:59<56:00,  1.76it/s]"
          ]
        },
        {
          "output_type": "stream",
          "name": "stdout",
          "text": [
            "./exp/smpl/example\n",
            "iter:24100 loss = 1.4397163391113281 lr=7.037333147410676e-05\n",
            "Validate: iter: 24100, camera: 58\n"
          ]
        },
        {
          "output_type": "stream",
          "name": "stderr",
          "text": [
            " 81%|████████  | 24199/30000 [4:04:57<53:19,  1.81it/s]"
          ]
        },
        {
          "output_type": "stream",
          "name": "stdout",
          "text": [
            "./exp/smpl/example\n",
            "iter:24200 loss = 1.4980838298797607 lr=6.889738136282131e-05\n",
            "Validate: iter: 24200, camera: 58\n"
          ]
        },
        {
          "output_type": "stream",
          "name": "stderr",
          "text": [
            " 81%|████████  | 24299/30000 [4:05:55<51:18,  1.85it/s]"
          ]
        },
        {
          "output_type": "stream",
          "name": "stdout",
          "text": [
            "./exp/smpl/example\n",
            "iter:24300 loss = 1.4167684316635132 lr=6.744338773758443e-05\n",
            "Validate: iter: 24300, camera: 58\n"
          ]
        },
        {
          "output_type": "stream",
          "name": "stderr",
          "text": [
            " 81%|████████▏ | 24399/30000 [4:06:53<50:26,  1.85it/s]"
          ]
        },
        {
          "output_type": "stream",
          "name": "stdout",
          "text": [
            "./exp/smpl/example\n",
            "iter:24400 loss = 1.5542426109313965 lr=6.601151549591126e-05\n",
            "Validate: iter: 24400, camera: 58\n"
          ]
        },
        {
          "output_type": "stream",
          "name": "stderr",
          "text": [
            " 82%|████████▏ | 24499/30000 [4:07:51<49:29,  1.85it/s]"
          ]
        },
        {
          "output_type": "stream",
          "name": "stdout",
          "text": [
            "./exp/smpl/example\n",
            "iter:24500 loss = 1.3655422925949097 lr=6.460192702652947e-05\n",
            "Validate: iter: 24500, camera: 58\n",
            "threshold: 0.0\n"
          ]
        },
        {
          "output_type": "stream",
          "name": "stderr",
          "text": [
            " 82%|████████▏ | 24599/30000 [4:09:03<48:59,  1.84it/s]"
          ]
        },
        {
          "output_type": "stream",
          "name": "stdout",
          "text": [
            "./exp/smpl/example\n",
            "iter:24600 loss = 1.2990753650665283 lr=6.321478219096247e-05\n",
            "Validate: iter: 24600, camera: 58\n"
          ]
        },
        {
          "output_type": "stream",
          "name": "stderr",
          "text": [
            " 82%|████████▏ | 24699/30000 [4:10:01<47:50,  1.85it/s]"
          ]
        },
        {
          "output_type": "stream",
          "name": "stdout",
          "text": [
            "./exp/smpl/example\n",
            "iter:24700 loss = 1.3497576713562012 lr=6.18502383053997e-05\n",
            "Validate: iter: 24700, camera: 58\n"
          ]
        },
        {
          "output_type": "stream",
          "name": "stderr",
          "text": [
            " 83%|████████▎ | 24799/30000 [4:10:59<46:51,  1.85it/s]"
          ]
        },
        {
          "output_type": "stream",
          "name": "stdout",
          "text": [
            "./exp/smpl/example\n",
            "iter:24800 loss = 1.4576373100280762 lr=6.050845012285531e-05\n",
            "Validate: iter: 24800, camera: 58\n"
          ]
        },
        {
          "output_type": "stream",
          "name": "stderr",
          "text": [
            " 83%|████████▎ | 24899/30000 [4:11:57<46:21,  1.83it/s]"
          ]
        },
        {
          "output_type": "stream",
          "name": "stdout",
          "text": [
            "./exp/smpl/example\n",
            "iter:24900 loss = 1.3186062574386597 lr=5.9189569815617744e-05\n",
            "Validate: iter: 24900, camera: 58\n"
          ]
        },
        {
          "output_type": "stream",
          "name": "stderr",
          "text": [
            " 83%|████████▎ | 24999/30000 [4:12:55<46:14,  1.80it/s]"
          ]
        },
        {
          "output_type": "stream",
          "name": "stdout",
          "text": [
            "./exp/smpl/example\n",
            "iter:25000 loss = 1.4165462255477905 lr=5.789374695799156e-05\n",
            "Validate: iter: 25000, camera: 58\n",
            "threshold: 0.0\n"
          ]
        },
        {
          "output_type": "stream",
          "name": "stderr",
          "text": [
            " 84%|████████▎ | 25099/30000 [4:14:06<47:05,  1.73it/s]"
          ]
        },
        {
          "output_type": "stream",
          "name": "stdout",
          "text": [
            "./exp/smpl/example\n",
            "iter:25100 loss = 1.3341491222381592 lr=5.662112850933457e-05\n",
            "Validate: iter: 25100, camera: 58\n"
          ]
        },
        {
          "output_type": "stream",
          "name": "stderr",
          "text": [
            " 84%|████████▍ | 25199/30000 [4:15:04<44:46,  1.79it/s]"
          ]
        },
        {
          "output_type": "stream",
          "name": "stdout",
          "text": [
            "./exp/smpl/example\n",
            "iter:25200 loss = 1.3855457305908203 lr=5.537185879739095e-05\n",
            "Validate: iter: 25200, camera: 58\n"
          ]
        },
        {
          "output_type": "stream",
          "name": "stderr",
          "text": [
            " 84%|████████▍ | 25299/30000 [4:16:02<43:24,  1.80it/s]"
          ]
        },
        {
          "output_type": "stream",
          "name": "stdout",
          "text": [
            "./exp/smpl/example\n",
            "iter:25300 loss = 1.3378665447235107 lr=5.414607950192307e-05\n",
            "Validate: iter: 25300, camera: 58\n"
          ]
        },
        {
          "output_type": "stream",
          "name": "stderr",
          "text": [
            " 85%|████████▍ | 25399/30000 [4:17:00<41:29,  1.85it/s]"
          ]
        },
        {
          "output_type": "stream",
          "name": "stdout",
          "text": [
            "./exp/smpl/example\n",
            "iter:25400 loss = 1.389465093612671 lr=5.2943929638643556e-05\n",
            "Validate: iter: 25400, camera: 58\n"
          ]
        },
        {
          "output_type": "stream",
          "name": "stderr",
          "text": [
            " 85%|████████▍ | 25499/30000 [4:17:58<40:20,  1.86it/s]"
          ]
        },
        {
          "output_type": "stream",
          "name": "stdout",
          "text": [
            "./exp/smpl/example\n",
            "iter:25500 loss = 1.4258971214294434 lr=5.1765545543449584e-05\n",
            "Validate: iter: 25500, camera: 58\n",
            "threshold: 0.0\n"
          ]
        },
        {
          "output_type": "stream",
          "name": "stderr",
          "text": [
            " 85%|████████▌ | 25599/30000 [4:19:10<40:40,  1.80it/s]"
          ]
        },
        {
          "output_type": "stream",
          "name": "stdout",
          "text": [
            "./exp/smpl/example\n",
            "iter:25600 loss = 1.6344373226165771 lr=5.061106085696087e-05\n",
            "Validate: iter: 25600, camera: 58\n"
          ]
        },
        {
          "output_type": "stream",
          "name": "stderr",
          "text": [
            " 86%|████████▌ | 25699/30000 [4:20:08<39:00,  1.84it/s]"
          ]
        },
        {
          "output_type": "stream",
          "name": "stdout",
          "text": [
            "./exp/smpl/example\n",
            "iter:25700 loss = 1.5168228149414062 lr=4.948060650936371e-05\n",
            "Validate: iter: 25700, camera: 58\n"
          ]
        },
        {
          "output_type": "stream",
          "name": "stderr",
          "text": [
            " 86%|████████▌ | 25708/30000 [4:20:15<43:28,  1.65it/s]"
          ]
        }
      ]
    },
    {
      "cell_type": "code",
      "source": [
        "#@title Generate a Video of Optimization Process (RGB)\n",
        "\n",
        "import os\n",
        "from tqdm import tqdm\n",
        "import numpy as np\n",
        "from IPython import display\n",
        "from PIL import Image\n",
        "from base64 import b64encode\n",
        "\n",
        "image_folder = 'exp/smpl/example/validations_extra_fine'\n",
        "image_fname = os.listdir(image_folder)\n",
        "image_fname = sorted(image_fname)\n",
        "image_fname = [os.path.join(image_folder, f) for f in image_fname]\n",
        "\n",
        "init_frame = 1\n",
        "last_frame = len(image_fname)\n",
        "min_fps = 10\n",
        "max_fps = 60\n",
        "total_frames = last_frame - init_frame\n",
        "\n",
        "length = 15 #Desired time of the video in seconds\n",
        "\n",
        "frames = []\n",
        "for i in range(init_frame, last_frame): #\n",
        "    frames.append(Image.open(image_fname[i]))\n",
        "\n",
        "#fps = last_frame/10\n",
        "fps = np.clip(total_frames/length,min_fps,max_fps)\n",
        "\n",
        "from subprocess import Popen, PIPE\n",
        "p = Popen(['ffmpeg', '-y', '-f', 'image2pipe', '-vcodec', 'png', '-r', str(fps), '-i', '-', '-vcodec', 'libx264', '-r', str(fps), '-pix_fmt', 'yuv420p', '-crf', '17', '-preset', 'veryslow', 'video.mp4'], stdin=PIPE)\n",
        "for im in tqdm(frames):\n",
        "    im.save(p.stdin, 'PNG')\n",
        "p.stdin.close()\n",
        "p.wait()\n",
        "mp4 = open('video.mp4','rb').read()\n",
        "data_url = \"data:video/mp4;base64,\" + b64encode(mp4).decode()\n",
        "\n",
        "display.HTML(\"\"\"\n",
        "<video width=400 controls>\n",
        "      <source src=\"%s\" type=\"video/mp4\">\n",
        "</video>\n",
        "\"\"\" % data_url)"
      ],
      "metadata": {
        "id": "SIzybbXwG997"
      },
      "execution_count": null,
      "outputs": []
    },
    {
      "cell_type": "code",
      "source": [
        "#@title Generate a Video of Optimization Process (Normal)\n",
        "\n",
        "import os\n",
        "from tqdm import tqdm\n",
        "import numpy as np\n",
        "from IPython import display\n",
        "from PIL import Image\n",
        "from base64 import b64encode\n",
        "\n",
        "image_folder = 'exp/smpl/example/normals'\n",
        "image_fname = os.listdir(image_folder)\n",
        "image_fname = sorted(image_fname)\n",
        "image_fname = [os.path.join(image_folder, f) for f in image_fname]\n",
        "\n",
        "init_frame = 1\n",
        "last_frame = len(image_fname)\n",
        "min_fps = 10\n",
        "max_fps = 60\n",
        "total_frames = last_frame - init_frame\n",
        "\n",
        "length = 15 #Desired time of the video in seconds\n",
        "\n",
        "frames = []\n",
        "for i in range(init_frame, last_frame): #\n",
        "    frames.append(Image.open(image_fname[i]))\n",
        "\n",
        "#fps = last_frame/10\n",
        "fps = np.clip(total_frames/length,min_fps,max_fps)\n",
        "\n",
        "from subprocess import Popen, PIPE\n",
        "p = Popen(['ffmpeg', '-y', '-f', 'image2pipe', '-vcodec', 'png', '-r', str(fps), '-i', '-', '-vcodec', 'libx264', '-r', str(fps), '-pix_fmt', 'yuv420p', '-crf', '17', '-preset', 'veryslow', 'video_normal.mp4'], stdin=PIPE)\n",
        "for im in tqdm(frames):\n",
        "    im.save(p.stdin, 'PNG')\n",
        "p.stdin.close()\n",
        "p.wait()\n",
        "mp4 = open('video_normal.mp4','rb').read()\n",
        "data_url = \"data:video/mp4;base64,\" + b64encode(mp4).decode()\n",
        "\n",
        "display.HTML(\"\"\"\n",
        "<video width=400 controls>\n",
        "      <source src=\"%s\" type=\"video/mp4\">\n",
        "</video>\n",
        "\"\"\" % data_url)"
      ],
      "metadata": {
        "id": "KaKZ0fydYz_F"
      },
      "execution_count": null,
      "outputs": []
    },
    {
      "cell_type": "markdown",
      "source": [
        "#### Finally, don't forget to download the extracted meshes at `AvatarCLIP/AvatarGen/AppearanceGen/exp/smpl/example/meshes/*.ply`"
      ],
      "metadata": {
        "id": "uUsebvU8QzFF"
      }
    },
    {
      "cell_type": "code",
      "source": [],
      "metadata": {
        "id": "rOtGNxpVgwW0"
      },
      "execution_count": null,
      "outputs": []
    }
  ]
}